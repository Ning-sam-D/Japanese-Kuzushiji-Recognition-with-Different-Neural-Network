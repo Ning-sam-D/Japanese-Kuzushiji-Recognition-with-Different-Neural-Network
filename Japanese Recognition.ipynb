{
  "nbformat": 4,
  "nbformat_minor": 0,
  "metadata": {
    "accelerator": "GPU",
    "colab": {
      "name": "DL Project",
      "provenance": [],
      "collapsed_sections": [
        "QgGUvfsCArpY",
        "gXsds_d4Ftzy",
        "zdj99Of4Qwu0"
      ]
    },
    "kernelspec": {
      "display_name": "Python 3",
      "name": "python3"
    },
    "language_info": {
      "name": "python"
    }
  },
  "cells": [
    {
      "cell_type": "markdown",
      "metadata": {
        "id": "OQiBMjeJQ2H9"
      },
      "source": [
        "# Training"
      ]
    },
    {
      "cell_type": "markdown",
      "metadata": {
        "id": "gaeUrAiDGSDn"
      },
      "source": [
        "## Importing data\n",
        "\n",
        "The dataset is available on https://github.com/rois-codh/kmnist."
      ]
    },
    {
      "cell_type": "code",
      "metadata": {
        "colab": {
          "base_uri": "https://localhost:8080/"
        },
        "id": "8xHXPqYXyY7P",
        "outputId": "b8cc690b-b49d-4fb0-a1aa-53fbe89d4eb5"
      },
      "source": [
        "!wget http://codh.rois.ac.jp/kmnist/dataset/k49/k49-train-imgs.npz\n",
        "!wget http://codh.rois.ac.jp/kmnist/dataset/k49/k49-train-labels.npz\n",
        "!wget http://codh.rois.ac.jp/kmnist/dataset/k49/k49-test-imgs.npz\n",
        "!wget http://codh.rois.ac.jp/kmnist/dataset/k49/k49-test-labels.npz"
      ],
      "execution_count": null,
      "outputs": [
        {
          "output_type": "stream",
          "name": "stdout",
          "text": [
            "--2021-12-19 06:35:23--  http://codh.rois.ac.jp/kmnist/dataset/k49/k49-train-imgs.npz\n",
            "Resolving codh.rois.ac.jp (codh.rois.ac.jp)... 136.187.88.58\n",
            "Connecting to codh.rois.ac.jp (codh.rois.ac.jp)|136.187.88.58|:80... connected.\n",
            "HTTP request sent, awaiting response... 200 OK\n",
            "Length: 66117696 (63M)\n",
            "Saving to: ‘k49-train-imgs.npz.1’\n",
            "\n",
            "k49-train-imgs.npz. 100%[===================>]  63.05M  3.17MB/s    in 19s     \n",
            "\n",
            "2021-12-19 06:35:43 (3.35 MB/s) - ‘k49-train-imgs.npz.1’ saved [66117696/66117696]\n",
            "\n",
            "--2021-12-19 06:35:43--  http://codh.rois.ac.jp/kmnist/dataset/k49/k49-train-labels.npz\n",
            "Resolving codh.rois.ac.jp (codh.rois.ac.jp)... 136.187.88.58\n",
            "Connecting to codh.rois.ac.jp (codh.rois.ac.jp)|136.187.88.58|:80... connected.\n",
            "HTTP request sent, awaiting response... 200 OK\n",
            "Length: 164485 (161K)\n",
            "Saving to: ‘k49-train-labels.npz.1’\n",
            "\n",
            "k49-train-labels.np 100%[===================>] 160.63K   239KB/s    in 0.7s    \n",
            "\n",
            "2021-12-19 06:35:44 (239 KB/s) - ‘k49-train-labels.npz.1’ saved [164485/164485]\n",
            "\n",
            "--2021-12-19 06:35:44--  http://codh.rois.ac.jp/kmnist/dataset/k49/k49-test-imgs.npz\n",
            "Resolving codh.rois.ac.jp (codh.rois.ac.jp)... 136.187.88.58\n",
            "Connecting to codh.rois.ac.jp (codh.rois.ac.jp)|136.187.88.58|:80... connected.\n",
            "HTTP request sent, awaiting response... 200 OK\n",
            "Length: 10971201 (10M)\n",
            "Saving to: ‘k49-test-imgs.npz.1’\n",
            "\n",
            "k49-test-imgs.npz.1 100%[===================>]  10.46M  2.53MB/s    in 4.1s    \n",
            "\n",
            "2021-12-19 06:35:49 (2.53 MB/s) - ‘k49-test-imgs.npz.1’ saved [10971201/10971201]\n",
            "\n",
            "--2021-12-19 06:35:49--  http://codh.rois.ac.jp/kmnist/dataset/k49/k49-test-labels.npz\n",
            "Resolving codh.rois.ac.jp (codh.rois.ac.jp)... 136.187.88.58\n",
            "Connecting to codh.rois.ac.jp (codh.rois.ac.jp)|136.187.88.58|:80... connected.\n",
            "HTTP request sent, awaiting response... 200 OK\n",
            "Length: 27450 (27K)\n",
            "Saving to: ‘k49-test-labels.npz.1’\n",
            "\n",
            "k49-test-labels.npz 100%[===================>]  26.81K   119KB/s    in 0.2s    \n",
            "\n",
            "2021-12-19 06:35:50 (119 KB/s) - ‘k49-test-labels.npz.1’ saved [27450/27450]\n",
            "\n"
          ]
        }
      ]
    },
    {
      "cell_type": "code",
      "metadata": {
        "id": "1zYesHrRGb9l"
      },
      "source": [
        "from tensorflow import keras\n",
        "import numpy as np\n",
        "from keras.preprocessing.image import ImageDataGenerator\n",
        "from keras import backend as K\n",
        "\n",
        "# Load the data into numpy array\n",
        "train_images = np.load(\"k49-train-imgs.npz\")['arr_0']\n",
        "train_labels = np.load(\"k49-train-labels.npz\")['arr_0']\n",
        "test_images = np.load(\"k49-test-imgs.npz\")['arr_0']\n",
        "test_labels = np.load(\"k49-test-labels.npz\")['arr_0']\n",
        "\n",
        "# Resize the data into the shape that the model accepts\n",
        "if K.image_data_format() == \"channels_first\":\n",
        "  train_images = train_images.reshape(train_images.shape[0], 1,28,28)\n",
        "  test_images = test_images.reshape(test_images.shape[0], 1,28,28)\n",
        "  shape = (1,28,28)\n",
        "else:\n",
        "  train_images = train_images.reshape(train_images.shape[0], 28, 28, 1)\n",
        "  test_images = test_images.reshape(test_images.shape[0], 28, 28, 1)\n",
        "  shape = (28,28,1)\n",
        "\n",
        "# Normalize the image data\n",
        "train_images = train_images/255.0\n",
        "test_images = test_images / 255.0\n",
        "\n",
        "# allow 15 degree rotation and zoom range of 0.2 for the images\n",
        "datagen = ImageDataGenerator(rotation_range=15,zoom_range=0.2)\n",
        "datagen.fit(train_images)"
      ],
      "execution_count": null,
      "outputs": []
    },
    {
      "cell_type": "markdown",
      "metadata": {
        "id": "lqIX6qhcGHPv"
      },
      "source": [
        "## Simple CNN\n",
        "The following convolutional neural network is built by referring to the following link:\n",
        "###### https://github.com/Nippon2019/Handwritten-Japanese-Recognition/blob/master/Kuzushiji/kuzushiji_CNN.py"
      ]
    },
    {
      "cell_type": "code",
      "metadata": {
        "colab": {
          "base_uri": "https://localhost:8080/"
        },
        "id": "ooLVurrwxt31",
        "outputId": "f09d709d-6daf-4b47-d407-67f2cb8818f0"
      },
      "source": [
        "model = keras.Sequential([\n",
        "\tkeras.layers.Conv2D(64, (3,3), activation='relu', input_shape=shape),\n",
        "\tkeras.layers.MaxPooling2D(2,2),\n",
        "\tkeras.layers.Conv2D(64, (3,3), activation='relu'),\n",
        "\tkeras.layers.MaxPooling2D(2,2),\n",
        "  keras.layers.Flatten(),\n",
        "  keras.layers.Dropout(0.5),\n",
        "  keras.layers.Dense(512, activation='relu'),\n",
        "  keras.layers.Dense(49, activation=\"softmax\")\n",
        "])\n",
        "\n",
        "model.summary()\n",
        "\n",
        "model.compile(optimizer='adam', loss=\"sparse_categorical_crossentropy\", metrics=['accuracy'])\n",
        "\n",
        "cnn_hist = model.fit_generator(datagen.flow(train_images,train_labels,shuffle=True),\n",
        "                               validation_data=(test_images,test_labels),\n",
        "                               epochs=40,\n",
        "                               callbacks = [keras.callbacks.EarlyStopping(patience=8,verbose=1,restore_best_weights=True),\n",
        "                                            keras.callbacks.ReduceLROnPlateau(factor=0.5,patience=3,verbose=1)])\n",
        "\n",
        "\n",
        "model.save(\"CNN.h5\")"
      ],
      "execution_count": null,
      "outputs": [
        {
          "output_type": "stream",
          "name": "stdout",
          "text": [
            "Model: \"sequential\"\n",
            "_________________________________________________________________\n",
            " Layer (type)                Output Shape              Param #   \n",
            "=================================================================\n",
            " conv2d (Conv2D)             (None, 26, 26, 64)        640       \n",
            "                                                                 \n",
            " max_pooling2d (MaxPooling2D  (None, 13, 13, 64)       0         \n",
            " )                                                               \n",
            "                                                                 \n",
            " conv2d_1 (Conv2D)           (None, 11, 11, 64)        36928     \n",
            "                                                                 \n",
            " max_pooling2d_1 (MaxPooling  (None, 5, 5, 64)         0         \n",
            " 2D)                                                             \n",
            "                                                                 \n",
            " flatten (Flatten)           (None, 1600)              0         \n",
            "                                                                 \n",
            " dropout (Dropout)           (None, 1600)              0         \n",
            "                                                                 \n",
            " dense (Dense)               (None, 512)               819712    \n",
            "                                                                 \n",
            " dense_1 (Dense)             (None, 49)                25137     \n",
            "                                                                 \n",
            "=================================================================\n",
            "Total params: 882,417\n",
            "Trainable params: 882,417\n",
            "Non-trainable params: 0\n",
            "_________________________________________________________________\n"
          ]
        },
        {
          "output_type": "stream",
          "name": "stderr",
          "text": [
            "/usr/local/lib/python3.7/dist-packages/ipykernel_launcher.py:20: UserWarning: `Model.fit_generator` is deprecated and will be removed in a future version. Please use `Model.fit`, which supports generators.\n"
          ]
        },
        {
          "output_type": "stream",
          "name": "stdout",
          "text": [
            "Epoch 1/40\n",
            "7262/7262 [==============================] - 84s 10ms/step - loss: 0.6724 - accuracy: 0.8138 - val_loss: 0.4219 - val_accuracy: 0.8884 - lr: 0.0010\n",
            "Epoch 2/40\n",
            "7262/7262 [==============================] - 70s 10ms/step - loss: 0.3622 - accuracy: 0.8963 - val_loss: 0.3358 - val_accuracy: 0.9122 - lr: 0.0010\n",
            "Epoch 3/40\n",
            "7262/7262 [==============================] - 67s 9ms/step - loss: 0.3041 - accuracy: 0.9124 - val_loss: 0.3029 - val_accuracy: 0.9219 - lr: 0.0010\n",
            "Epoch 4/40\n",
            "7262/7262 [==============================] - 67s 9ms/step - loss: 0.2723 - accuracy: 0.9209 - val_loss: 0.2859 - val_accuracy: 0.9284 - lr: 0.0010\n",
            "Epoch 5/40\n",
            "7262/7262 [==============================] - 68s 9ms/step - loss: 0.2530 - accuracy: 0.9264 - val_loss: 0.2675 - val_accuracy: 0.9337 - lr: 0.0010\n",
            "Epoch 6/40\n",
            "7262/7262 [==============================] - 68s 9ms/step - loss: 0.2416 - accuracy: 0.9297 - val_loss: 0.2703 - val_accuracy: 0.9350 - lr: 0.0010\n",
            "Epoch 7/40\n",
            "7262/7262 [==============================] - 68s 9ms/step - loss: 0.2321 - accuracy: 0.9329 - val_loss: 0.2577 - val_accuracy: 0.9395 - lr: 0.0010\n",
            "Epoch 8/40\n",
            "7262/7262 [==============================] - 67s 9ms/step - loss: 0.2235 - accuracy: 0.9348 - val_loss: 0.2602 - val_accuracy: 0.9388 - lr: 0.0010\n",
            "Epoch 9/40\n",
            "7262/7262 [==============================] - 66s 9ms/step - loss: 0.2146 - accuracy: 0.9369 - val_loss: 0.2429 - val_accuracy: 0.9421 - lr: 0.0010\n",
            "Epoch 10/40\n",
            "7262/7262 [==============================] - 67s 9ms/step - loss: 0.2123 - accuracy: 0.9381 - val_loss: 0.2487 - val_accuracy: 0.9402 - lr: 0.0010\n",
            "Epoch 11/40\n",
            "7262/7262 [==============================] - 68s 9ms/step - loss: 0.2069 - accuracy: 0.9391 - val_loss: 0.2463 - val_accuracy: 0.9421 - lr: 0.0010\n",
            "Epoch 12/40\n",
            "7262/7262 [==============================] - ETA: 0s - loss: 0.2035 - accuracy: 0.9402\n",
            "Epoch 00012: ReduceLROnPlateau reducing learning rate to 0.0005000000237487257.\n",
            "7262/7262 [==============================] - 68s 9ms/step - loss: 0.2035 - accuracy: 0.9402 - val_loss: 0.2521 - val_accuracy: 0.9439 - lr: 0.0010\n",
            "Epoch 13/40\n",
            "7262/7262 [==============================] - 67s 9ms/step - loss: 0.1737 - accuracy: 0.9481 - val_loss: 0.2353 - val_accuracy: 0.9470 - lr: 5.0000e-04\n",
            "Epoch 14/40\n",
            "7262/7262 [==============================] - 67s 9ms/step - loss: 0.1667 - accuracy: 0.9503 - val_loss: 0.2219 - val_accuracy: 0.9509 - lr: 5.0000e-04\n",
            "Epoch 15/40\n",
            "7262/7262 [==============================] - 66s 9ms/step - loss: 0.1636 - accuracy: 0.9515 - val_loss: 0.2278 - val_accuracy: 0.9488 - lr: 5.0000e-04\n",
            "Epoch 16/40\n",
            "7262/7262 [==============================] - 67s 9ms/step - loss: 0.1584 - accuracy: 0.9528 - val_loss: 0.2197 - val_accuracy: 0.9504 - lr: 5.0000e-04\n",
            "Epoch 17/40\n",
            "7262/7262 [==============================] - 67s 9ms/step - loss: 0.1542 - accuracy: 0.9536 - val_loss: 0.2214 - val_accuracy: 0.9499 - lr: 5.0000e-04\n",
            "Epoch 18/40\n",
            "7262/7262 [==============================] - 68s 9ms/step - loss: 0.1545 - accuracy: 0.9537 - val_loss: 0.2276 - val_accuracy: 0.9507 - lr: 5.0000e-04\n",
            "Epoch 19/40\n",
            "7262/7262 [==============================] - ETA: 0s - loss: 0.1537 - accuracy: 0.9540\n",
            "Epoch 00019: ReduceLROnPlateau reducing learning rate to 0.0002500000118743628.\n",
            "7262/7262 [==============================] - 67s 9ms/step - loss: 0.1537 - accuracy: 0.9540 - val_loss: 0.2242 - val_accuracy: 0.9495 - lr: 5.0000e-04\n",
            "Epoch 20/40\n",
            "7262/7262 [==============================] - 66s 9ms/step - loss: 0.1403 - accuracy: 0.9575 - val_loss: 0.2164 - val_accuracy: 0.9525 - lr: 2.5000e-04\n",
            "Epoch 21/40\n",
            "7262/7262 [==============================] - 66s 9ms/step - loss: 0.1360 - accuracy: 0.9586 - val_loss: 0.2170 - val_accuracy: 0.9513 - lr: 2.5000e-04\n",
            "Epoch 22/40\n",
            "7262/7262 [==============================] - 66s 9ms/step - loss: 0.1347 - accuracy: 0.9591 - val_loss: 0.2172 - val_accuracy: 0.9519 - lr: 2.5000e-04\n",
            "Epoch 23/40\n",
            "7257/7262 [============================>.] - ETA: 0s - loss: 0.1322 - accuracy: 0.9598\n",
            "Epoch 00023: ReduceLROnPlateau reducing learning rate to 0.0001250000059371814.\n",
            "7262/7262 [==============================] - 67s 9ms/step - loss: 0.1322 - accuracy: 0.9598 - val_loss: 0.2171 - val_accuracy: 0.9534 - lr: 2.5000e-04\n",
            "Epoch 24/40\n",
            "7262/7262 [==============================] - 67s 9ms/step - loss: 0.1254 - accuracy: 0.9616 - val_loss: 0.2102 - val_accuracy: 0.9529 - lr: 1.2500e-04\n",
            "Epoch 25/40\n",
            "7262/7262 [==============================] - 66s 9ms/step - loss: 0.1232 - accuracy: 0.9624 - val_loss: 0.2067 - val_accuracy: 0.9556 - lr: 1.2500e-04\n",
            "Epoch 26/40\n",
            "7262/7262 [==============================] - 66s 9ms/step - loss: 0.1230 - accuracy: 0.9630 - val_loss: 0.2086 - val_accuracy: 0.9546 - lr: 1.2500e-04\n",
            "Epoch 27/40\n",
            "7262/7262 [==============================] - 67s 9ms/step - loss: 0.1217 - accuracy: 0.9629 - val_loss: 0.2093 - val_accuracy: 0.9543 - lr: 1.2500e-04\n",
            "Epoch 28/40\n",
            "7260/7262 [============================>.] - ETA: 0s - loss: 0.1214 - accuracy: 0.9628\n",
            "Epoch 00028: ReduceLROnPlateau reducing learning rate to 6.25000029685907e-05.\n",
            "7262/7262 [==============================] - 71s 10ms/step - loss: 0.1214 - accuracy: 0.9628 - val_loss: 0.2091 - val_accuracy: 0.9550 - lr: 1.2500e-04\n",
            "Epoch 29/40\n",
            "7262/7262 [==============================] - 67s 9ms/step - loss: 0.1158 - accuracy: 0.9645 - val_loss: 0.2086 - val_accuracy: 0.9545 - lr: 6.2500e-05\n",
            "Epoch 30/40\n",
            "7262/7262 [==============================] - 67s 9ms/step - loss: 0.1166 - accuracy: 0.9642 - val_loss: 0.2033 - val_accuracy: 0.9560 - lr: 6.2500e-05\n",
            "Epoch 31/40\n",
            "7262/7262 [==============================] - 66s 9ms/step - loss: 0.1157 - accuracy: 0.9643 - val_loss: 0.2070 - val_accuracy: 0.9555 - lr: 6.2500e-05\n",
            "Epoch 32/40\n",
            "7262/7262 [==============================] - 67s 9ms/step - loss: 0.1145 - accuracy: 0.9652 - val_loss: 0.2064 - val_accuracy: 0.9548 - lr: 6.2500e-05\n",
            "Epoch 33/40\n",
            "7261/7262 [============================>.] - ETA: 0s - loss: 0.1157 - accuracy: 0.9646\n",
            "Epoch 00033: ReduceLROnPlateau reducing learning rate to 3.125000148429535e-05.\n",
            "7262/7262 [==============================] - 67s 9ms/step - loss: 0.1157 - accuracy: 0.9646 - val_loss: 0.2037 - val_accuracy: 0.9557 - lr: 6.2500e-05\n",
            "Epoch 34/40\n",
            "7262/7262 [==============================] - 66s 9ms/step - loss: 0.1138 - accuracy: 0.9652 - val_loss: 0.2022 - val_accuracy: 0.9556 - lr: 3.1250e-05\n",
            "Epoch 35/40\n",
            "7262/7262 [==============================] - 67s 9ms/step - loss: 0.1129 - accuracy: 0.9658 - val_loss: 0.2067 - val_accuracy: 0.9556 - lr: 3.1250e-05\n",
            "Epoch 36/40\n",
            "7262/7262 [==============================] - 67s 9ms/step - loss: 0.1132 - accuracy: 0.9653 - val_loss: 0.2043 - val_accuracy: 0.9557 - lr: 3.1250e-05\n",
            "Epoch 37/40\n",
            "7261/7262 [============================>.] - ETA: 0s - loss: 0.1120 - accuracy: 0.9655\n",
            "Epoch 00037: ReduceLROnPlateau reducing learning rate to 1.5625000742147677e-05.\n",
            "7262/7262 [==============================] - 67s 9ms/step - loss: 0.1120 - accuracy: 0.9655 - val_loss: 0.2050 - val_accuracy: 0.9556 - lr: 3.1250e-05\n",
            "Epoch 38/40\n",
            "7262/7262 [==============================] - 67s 9ms/step - loss: 0.1102 - accuracy: 0.9661 - val_loss: 0.2040 - val_accuracy: 0.9559 - lr: 1.5625e-05\n",
            "Epoch 39/40\n",
            "7262/7262 [==============================] - 67s 9ms/step - loss: 0.1107 - accuracy: 0.9661 - val_loss: 0.2039 - val_accuracy: 0.9560 - lr: 1.5625e-05\n",
            "Epoch 40/40\n",
            "7262/7262 [==============================] - 74s 10ms/step - loss: 0.1107 - accuracy: 0.9663 - val_loss: 0.2017 - val_accuracy: 0.9559 - lr: 1.5625e-05\n"
          ]
        }
      ]
    },
    {
      "cell_type": "code",
      "metadata": {
        "colab": {
          "base_uri": "https://localhost:8080/",
          "height": 294
        },
        "id": "oIYki_5E1oqo",
        "outputId": "5a133de8-ed66-44c7-ea3a-d57034e4626a"
      },
      "source": [
        "from matplotlib import pyplot as plt\n",
        "\n",
        "tr_accuracy = cnn_hist.history['accuracy']\n",
        "val_accuracy = cnn_hist.history['val_accuracy']\n",
        "\n",
        "plt.plot(tr_accuracy);\n",
        "plt.plot(val_accuracy);\n",
        "plt.title('CNN Accuracy')\n",
        "plt.xlabel('epochs');\n",
        "plt.ylabel('accuracy');\n",
        "plt.legend(['Training accuracy', 'Validation accuracy']);"
      ],
      "execution_count": null,
      "outputs": [
        {
          "output_type": "display_data",
          "data": {
            "image/png": "[encoded data removed]",
            "text/plain": [
              "<Figure size 432x288 with 1 Axes>"
            ]
          },
          "metadata": {
            "needs_background": "light"
          }
        }
      ]
    },
    {
      "cell_type": "code",
      "metadata": {
        "colab": {
          "base_uri": "https://localhost:8080/",
          "height": 294
        },
        "id": "_1ni-03e2TR9",
        "outputId": "4f783002-f332-48c9-e1f0-2952441af8c8"
      },
      "source": [
        "tr_loss = cnn_hist.history['loss']\n",
        "val_loss = cnn_hist.history['val_loss']\n",
        "\n",
        "plt.plot(tr_loss)\n",
        "plt.plot(val_loss)\n",
        "plt.title('CNN Loss')\n",
        "plt.xlabel('epochs')\n",
        "plt.ylabel('loss')\n",
        "plt.legend(['Training loss', 'Validation loss']);"
      ],
      "execution_count": null,
      "outputs": [
        {
          "output_type": "display_data",
          "data": {
            "image/png": "[encoded data removed]",
            "text/plain": [
              "<Figure size 432x288 with 1 Axes>"
            ]
          },
          "metadata": {
            "needs_background": "light"
          }
        }
      ]
    },
    {
      "cell_type": "markdown",
      "metadata": {
        "id": "TKHM_7GM6fuD"
      },
      "source": [
        "## AlexNet (Working)\n",
        "#####http://dangminhthang.com/computer-vision/character-recognition-using-alexnet/"
      ]
    },
    {
      "cell_type": "code",
      "metadata": {
        "colab": {
          "base_uri": "https://localhost:8080/"
        },
        "id": "HY8wMWbt6SHM",
        "outputId": "be20a8a4-8fb8-433a-a9b0-44ae1f3f2680"
      },
      "source": [
        "from tensorflow.keras.models import Sequential\n",
        "from tensorflow.keras.layers import *\n",
        "\n",
        "#Instantiation\n",
        "AlexNet = Sequential()\n",
        "\n",
        "#1st Convolutional Layer\n",
        "AlexNet.add(Conv2D(filters=96, input_shape=(28,28,1), kernel_size=(11,11), strides=(4,4), padding='same'))\n",
        "AlexNet.add(BatchNormalization())\n",
        "AlexNet.add(Activation('relu'))\n",
        "AlexNet.add(MaxPooling2D(pool_size=(2,2), strides=(2,2), padding='same'))\n",
        "\n",
        "#2nd Convolutional Layer\n",
        "AlexNet.add(Conv2D(filters=256, kernel_size=(5, 5), strides=(1,1), padding='same'))\n",
        "AlexNet.add(BatchNormalization())\n",
        "AlexNet.add(Activation('relu'))\n",
        "AlexNet.add(MaxPooling2D(pool_size=(2,2), strides=(2,2), padding='same'))\n",
        "\n",
        "#3rd Convolutional Layer\n",
        "AlexNet.add(Conv2D(filters=384, kernel_size=(3,3), strides=(1,1), padding='same'))\n",
        "AlexNet.add(BatchNormalization())\n",
        "AlexNet.add(Activation('relu'))\n",
        "\n",
        "#4th Convolutional Layer\n",
        "AlexNet.add(Conv2D(filters=384, kernel_size=(3,3), strides=(1,1), padding='same'))\n",
        "AlexNet.add(BatchNormalization())\n",
        "AlexNet.add(Activation('relu'))\n",
        "\n",
        "#5th Convolutional Layer\n",
        "AlexNet.add(Conv2D(filters=256, kernel_size=(3,3), strides=(1,1), padding='same'))\n",
        "AlexNet.add(BatchNormalization())\n",
        "AlexNet.add(Activation('relu'))\n",
        "AlexNet.add(MaxPooling2D(pool_size=(2,2), strides=(2,2), padding='same'))\n",
        "\n",
        "#Passing it to a Fully Connected layer\n",
        "AlexNet.add(Flatten())\n",
        "# 1st Fully Connected Layer\n",
        "AlexNet.add(Dense(4096, input_shape=(32,32,3,)))\n",
        "AlexNet.add(BatchNormalization())\n",
        "AlexNet.add(Activation('relu'))\n",
        "# Add Dropout to prevent overfitting\n",
        "AlexNet.add(Dropout(0.4))\n",
        "\n",
        "#2nd Fully Connected Layer\n",
        "AlexNet.add(Dense(4096))\n",
        "AlexNet.add(BatchNormalization())\n",
        "AlexNet.add(Activation('relu'))\n",
        "#Add Dropout\n",
        "AlexNet.add(Dropout(0.4))\n",
        "\n",
        "#3rd Fully Connected Layer\n",
        "AlexNet.add(Dense(1000))\n",
        "AlexNet.add(BatchNormalization())\n",
        "AlexNet.add(Activation('relu'))\n",
        "#Add Dropout\n",
        "AlexNet.add(Dropout(0.4))\n",
        "\n",
        "#Output Layer\n",
        "AlexNet.add(Dense(49))\n",
        "AlexNet.add(BatchNormalization())\n",
        "AlexNet.add(Activation('softmax'))\n",
        "\n",
        "#Model Summary\n",
        "AlexNet.summary()"
      ],
      "execution_count": null,
      "outputs": [
        {
          "output_type": "stream",
          "name": "stdout",
          "text": [
            "Model: \"sequential_1\"\n",
            "_________________________________________________________________\n",
            " Layer (type)                Output Shape              Param #   \n",
            "=================================================================\n",
            " conv2d_2 (Conv2D)           (None, 7, 7, 96)          11712     \n",
            "                                                                 \n",
            " batch_normalization (BatchN  (None, 7, 7, 96)         384       \n",
            " ormalization)                                                   \n",
            "                                                                 \n",
            " activation (Activation)     (None, 7, 7, 96)          0         \n",
            "                                                                 \n",
            " max_pooling2d_2 (MaxPooling  (None, 4, 4, 96)         0         \n",
            " 2D)                                                             \n",
            "                                                                 \n",
            " conv2d_3 (Conv2D)           (None, 4, 4, 256)         614656    \n",
            "                                                                 \n",
            " batch_normalization_1 (Batc  (None, 4, 4, 256)        1024      \n",
            " hNormalization)                                                 \n",
            "                                                                 \n",
            " activation_1 (Activation)   (None, 4, 4, 256)         0         \n",
            "                                                                 \n",
            " max_pooling2d_3 (MaxPooling  (None, 2, 2, 256)        0         \n",
            " 2D)                                                             \n",
            "                                                                 \n",
            " conv2d_4 (Conv2D)           (None, 2, 2, 384)         885120    \n",
            "                                                                 \n",
            " batch_normalization_2 (Batc  (None, 2, 2, 384)        1536      \n",
            " hNormalization)                                                 \n",
            "                                                                 \n",
            " activation_2 (Activation)   (None, 2, 2, 384)         0         \n",
            "                                                                 \n",
            " conv2d_5 (Conv2D)           (None, 2, 2, 384)         1327488   \n",
            "                                                                 \n",
            " batch_normalization_3 (Batc  (None, 2, 2, 384)        1536      \n",
            " hNormalization)                                                 \n",
            "                                                                 \n",
            " activation_3 (Activation)   (None, 2, 2, 384)         0         \n",
            "                                                                 \n",
            " conv2d_6 (Conv2D)           (None, 2, 2, 256)         884992    \n",
            "                                                                 \n",
            " batch_normalization_4 (Batc  (None, 2, 2, 256)        1024      \n",
            " hNormalization)                                                 \n",
            "                                                                 \n",
            " activation_4 (Activation)   (None, 2, 2, 256)         0         \n",
            "                                                                 \n",
            " max_pooling2d_4 (MaxPooling  (None, 1, 1, 256)        0         \n",
            " 2D)                                                             \n",
            "                                                                 \n",
            " flatten_1 (Flatten)         (None, 256)               0         \n",
            "                                                                 \n",
            " dense_2 (Dense)             (None, 4096)              1052672   \n",
            "                                                                 \n",
            " batch_normalization_5 (Batc  (None, 4096)             16384     \n",
            " hNormalization)                                                 \n",
            "                                                                 \n",
            " activation_5 (Activation)   (None, 4096)              0         \n",
            "                                                                 \n",
            " dropout_1 (Dropout)         (None, 4096)              0         \n",
            "                                                                 \n",
            " dense_3 (Dense)             (None, 4096)              16781312  \n",
            "                                                                 \n",
            " batch_normalization_6 (Batc  (None, 4096)             16384     \n",
            " hNormalization)                                                 \n",
            "                                                                 \n",
            " activation_6 (Activation)   (None, 4096)              0         \n",
            "                                                                 \n",
            " dropout_2 (Dropout)         (None, 4096)              0         \n",
            "                                                                 \n",
            " dense_4 (Dense)             (None, 1000)              4097000   \n",
            "                                                                 \n",
            " batch_normalization_7 (Batc  (None, 1000)             4000      \n",
            " hNormalization)                                                 \n",
            "                                                                 \n",
            " activation_7 (Activation)   (None, 1000)              0         \n",
            "                                                                 \n",
            " dropout_3 (Dropout)         (None, 1000)              0         \n",
            "                                                                 \n",
            " dense_5 (Dense)             (None, 49)                49049     \n",
            "                                                                 \n",
            " batch_normalization_8 (Batc  (None, 49)               196       \n",
            " hNormalization)                                                 \n",
            "                                                                 \n",
            " activation_8 (Activation)   (None, 49)                0         \n",
            "                                                                 \n",
            "=================================================================\n",
            "Total params: 25,746,469\n",
            "Trainable params: 25,725,235\n",
            "Non-trainable params: 21,234\n",
            "_________________________________________________________________\n"
          ]
        }
      ]
    },
    {
      "cell_type": "code",
      "metadata": {
        "id": "TRV6eeIM6t9A"
      },
      "source": [
        "AlexNet.compile(loss = keras.losses.sparse_categorical_crossentropy, optimizer= 'adam', metrics=['accuracy'])\n",
        "\n",
        "from keras.callbacks import ReduceLROnPlateau\n",
        "lrr= ReduceLROnPlateau(   monitor='val_accuracy',   factor=.01,   patience=3,  min_lr=1e-5) \n",
        "\n",
        "batch_size= 64\n",
        "epochs=40\n",
        "learn_rate=.001\n",
        "\n"
      ],
      "execution_count": null,
      "outputs": []
    },
    {
      "cell_type": "code",
      "metadata": {
        "colab": {
          "base_uri": "https://localhost:8080/"
        },
        "id": "kM0ldvH98aD7",
        "outputId": "74b90ee0-7548-489a-c1d4-68c0145c03de"
      },
      "source": [
        "alex_hist = AlexNet.fit(datagen.flow(train_images,train_labels,shuffle=True),\n",
        "                      epochs=epochs,\n",
        "                      validation_data=(test_images,test_labels),\n",
        "                      callbacks = [lrr], \n",
        "                      verbose=1)\n",
        "\n",
        "AlexNet.save(\"AlexNet.h5\")"
      ],
      "execution_count": null,
      "outputs": [
        {
          "output_type": "stream",
          "name": "stdout",
          "text": [
            "Epoch 1/40\n",
            "7262/7262 [==============================] - 129s 18ms/step - loss: 1.3992 - accuracy: 0.6303 - val_loss: 1.6747 - val_accuracy: 0.5642 - lr: 0.0010\n",
            "Epoch 2/40\n",
            "7262/7262 [==============================] - 122s 17ms/step - loss: 0.8260 - accuracy: 0.7832 - val_loss: 1.2458 - val_accuracy: 0.6753 - lr: 0.0010\n",
            "Epoch 3/40\n",
            "7262/7262 [==============================] - 127s 17ms/step - loss: 0.6558 - accuracy: 0.8272 - val_loss: 0.9829 - val_accuracy: 0.7384 - lr: 0.0010\n",
            "Epoch 4/40\n",
            "7262/7262 [==============================] - 128s 18ms/step - loss: 0.5569 - accuracy: 0.8527 - val_loss: 0.6483 - val_accuracy: 0.8229 - lr: 0.0010\n",
            "Epoch 5/40\n",
            "7262/7262 [==============================] - 112s 15ms/step - loss: 0.4968 - accuracy: 0.8682 - val_loss: 0.7273 - val_accuracy: 0.8129 - lr: 0.0010\n",
            "Epoch 6/40\n",
            "7262/7262 [==============================] - 103s 14ms/step - loss: 0.4508 - accuracy: 0.8799 - val_loss: 0.6025 - val_accuracy: 0.8445 - lr: 0.0010\n",
            "Epoch 7/40\n",
            "7262/7262 [==============================] - 103s 14ms/step - loss: 0.4217 - accuracy: 0.8874 - val_loss: 0.5404 - val_accuracy: 0.8578 - lr: 0.0010\n",
            "Epoch 8/40\n",
            "7262/7262 [==============================] - 103s 14ms/step - loss: 0.3905 - accuracy: 0.8957 - val_loss: 0.4575 - val_accuracy: 0.8788 - lr: 0.0010\n",
            "Epoch 9/40\n",
            "7262/7262 [==============================] - 103s 14ms/step - loss: 0.3679 - accuracy: 0.9017 - val_loss: 0.4528 - val_accuracy: 0.8844 - lr: 0.0010\n",
            "Epoch 10/40\n",
            "7262/7262 [==============================] - 103s 14ms/step - loss: 0.3458 - accuracy: 0.9080 - val_loss: 0.4050 - val_accuracy: 0.8942 - lr: 0.0010\n",
            "Epoch 11/40\n",
            "7262/7262 [==============================] - 104s 14ms/step - loss: 0.3280 - accuracy: 0.9125 - val_loss: 0.3929 - val_accuracy: 0.8998 - lr: 0.0010\n",
            "Epoch 12/40\n",
            "7262/7262 [==============================] - 105s 14ms/step - loss: 0.3106 - accuracy: 0.9174 - val_loss: 0.4119 - val_accuracy: 0.8959 - lr: 0.0010\n",
            "Epoch 13/40\n",
            "7262/7262 [==============================] - 103s 14ms/step - loss: 0.2980 - accuracy: 0.9208 - val_loss: 0.3986 - val_accuracy: 0.8980 - lr: 0.0010\n",
            "Epoch 14/40\n",
            "7262/7262 [==============================] - 104s 14ms/step - loss: 0.2831 - accuracy: 0.9246 - val_loss: 0.3889 - val_accuracy: 0.9025 - lr: 0.0010\n",
            "Epoch 15/40\n",
            "7262/7262 [==============================] - 102s 14ms/step - loss: 0.2694 - accuracy: 0.9284 - val_loss: 0.3717 - val_accuracy: 0.9069 - lr: 0.0010\n",
            "Epoch 16/40\n",
            "7262/7262 [==============================] - 103s 14ms/step - loss: 0.2570 - accuracy: 0.9314 - val_loss: 0.3698 - val_accuracy: 0.9066 - lr: 0.0010\n",
            "Epoch 17/40\n",
            "7262/7262 [==============================] - 103s 14ms/step - loss: 0.2493 - accuracy: 0.9333 - val_loss: 0.3703 - val_accuracy: 0.9085 - lr: 0.0010\n",
            "Epoch 18/40\n",
            "7262/7262 [==============================] - 104s 14ms/step - loss: 0.2421 - accuracy: 0.9362 - val_loss: 0.3505 - val_accuracy: 0.9121 - lr: 0.0010\n",
            "Epoch 19/40\n",
            "7262/7262 [==============================] - 104s 14ms/step - loss: 0.2318 - accuracy: 0.9382 - val_loss: 0.3412 - val_accuracy: 0.9145 - lr: 0.0010\n",
            "Epoch 20/40\n",
            "7262/7262 [==============================] - 104s 14ms/step - loss: 0.2250 - accuracy: 0.9400 - val_loss: 0.3328 - val_accuracy: 0.9151 - lr: 0.0010\n",
            "Epoch 21/40\n",
            "7262/7262 [==============================] - 104s 14ms/step - loss: 0.2178 - accuracy: 0.9415 - val_loss: 0.3059 - val_accuracy: 0.9224 - lr: 0.0010\n",
            "Epoch 22/40\n",
            "7262/7262 [==============================] - 103s 14ms/step - loss: 0.2083 - accuracy: 0.9440 - val_loss: 0.3127 - val_accuracy: 0.9228 - lr: 0.0010\n",
            "Epoch 23/40\n",
            "7262/7262 [==============================] - 104s 14ms/step - loss: 0.2026 - accuracy: 0.9456 - val_loss: 0.3059 - val_accuracy: 0.9233 - lr: 0.0010\n",
            "Epoch 24/40\n",
            "7262/7262 [==============================] - 103s 14ms/step - loss: 0.1962 - accuracy: 0.9470 - val_loss: 0.2985 - val_accuracy: 0.9252 - lr: 0.0010\n",
            "Epoch 25/40\n",
            "7262/7262 [==============================] - 103s 14ms/step - loss: 0.1915 - accuracy: 0.9479 - val_loss: 0.3108 - val_accuracy: 0.9227 - lr: 0.0010\n",
            "Epoch 26/40\n",
            "7262/7262 [==============================] - 103s 14ms/step - loss: 0.1854 - accuracy: 0.9497 - val_loss: 0.2973 - val_accuracy: 0.9265 - lr: 0.0010\n",
            "Epoch 27/40\n",
            "7262/7262 [==============================] - 104s 14ms/step - loss: 0.1811 - accuracy: 0.9507 - val_loss: 0.2918 - val_accuracy: 0.9275 - lr: 0.0010\n",
            "Epoch 28/40\n",
            "7262/7262 [==============================] - 104s 14ms/step - loss: 0.1759 - accuracy: 0.9520 - val_loss: 0.2889 - val_accuracy: 0.9286 - lr: 0.0010\n",
            "Epoch 29/40\n",
            "7262/7262 [==============================] - 102s 14ms/step - loss: 0.1704 - accuracy: 0.9533 - val_loss: 0.2934 - val_accuracy: 0.9276 - lr: 0.0010\n",
            "Epoch 30/40\n",
            "7262/7262 [==============================] - 104s 14ms/step - loss: 0.1658 - accuracy: 0.9543 - val_loss: 0.2746 - val_accuracy: 0.9324 - lr: 0.0010\n",
            "Epoch 31/40\n",
            "7262/7262 [==============================] - 104s 14ms/step - loss: 0.1631 - accuracy: 0.9551 - val_loss: 0.2807 - val_accuracy: 0.9307 - lr: 0.0010\n",
            "Epoch 32/40\n",
            "7262/7262 [==============================] - 104s 14ms/step - loss: 0.1596 - accuracy: 0.9562 - val_loss: 0.2908 - val_accuracy: 0.9280 - lr: 0.0010\n",
            "Epoch 33/40\n",
            "7262/7262 [==============================] - 104s 14ms/step - loss: 0.1561 - accuracy: 0.9572 - val_loss: 0.2898 - val_accuracy: 0.9298 - lr: 0.0010\n",
            "Epoch 34/40\n",
            "7262/7262 [==============================] - 104s 14ms/step - loss: 0.1348 - accuracy: 0.9629 - val_loss: 0.2615 - val_accuracy: 0.9359 - lr: 1.0000e-05\n",
            "Epoch 35/40\n",
            "7262/7262 [==============================] - 104s 14ms/step - loss: 0.1248 - accuracy: 0.9652 - val_loss: 0.2564 - val_accuracy: 0.9374 - lr: 1.0000e-05\n",
            "Epoch 36/40\n",
            "7262/7262 [==============================] - 104s 14ms/step - loss: 0.1225 - accuracy: 0.9662 - val_loss: 0.2555 - val_accuracy: 0.9378 - lr: 1.0000e-05\n",
            "Epoch 37/40\n",
            "7262/7262 [==============================] - 104s 14ms/step - loss: 0.1211 - accuracy: 0.9658 - val_loss: 0.2546 - val_accuracy: 0.9384 - lr: 1.0000e-05\n",
            "Epoch 38/40\n",
            "7262/7262 [==============================] - 104s 14ms/step - loss: 0.1185 - accuracy: 0.9671 - val_loss: 0.2522 - val_accuracy: 0.9389 - lr: 1.0000e-05\n",
            "Epoch 39/40\n",
            "7262/7262 [==============================] - 104s 14ms/step - loss: 0.1165 - accuracy: 0.9674 - val_loss: 0.2520 - val_accuracy: 0.9387 - lr: 1.0000e-05\n",
            "Epoch 40/40\n",
            "7262/7262 [==============================] - 103s 14ms/step - loss: 0.1138 - accuracy: 0.9686 - val_loss: 0.2514 - val_accuracy: 0.9394 - lr: 1.0000e-05\n"
          ]
        }
      ]
    },
    {
      "cell_type": "code",
      "metadata": {
        "colab": {
          "base_uri": "https://localhost:8080/",
          "height": 294
        },
        "id": "winDsQxp2tZS",
        "outputId": "48346da3-593b-4abb-a9d6-1961d21e304d"
      },
      "source": [
        "tr_accuracy = alex_hist.history['accuracy']\n",
        "val_accuracy = alex_hist.history['val_accuracy']\n",
        "\n",
        "plt.plot(tr_accuracy);\n",
        "plt.plot(val_accuracy);\n",
        "plt.title('AlexNet Accuracy')\n",
        "plt.xlabel('epochs');\n",
        "plt.ylabel('accuracy');\n",
        "plt.legend(['Training accuracy', 'Validation accuracy']);"
      ],
      "execution_count": null,
      "outputs": [
        {
          "output_type": "display_data",
          "data": {
            "image/png": "[encoded data removed]",
            "text/plain": [
              "<Figure size 432x288 with 1 Axes>"
            ]
          },
          "metadata": {
            "needs_background": "light"
          }
        }
      ]
    },
    {
      "cell_type": "code",
      "metadata": {
        "colab": {
          "base_uri": "https://localhost:8080/",
          "height": 294
        },
        "id": "5F5ifyPz2u7h",
        "outputId": "80d20b96-e370-4a4a-84cd-cf1d560129c5"
      },
      "source": [
        "tr_loss = alex_hist.history['loss']\n",
        "val_loss = alex_hist.history['val_loss']\n",
        "\n",
        "plt.plot(tr_loss);\n",
        "plt.plot(val_loss);\n",
        "plt.title('AlexNet Loss')\n",
        "plt.xlabel('epochs');\n",
        "plt.ylabel('loss');\n",
        "plt.legend(['Training loss', 'Validation loss']);"
      ],
      "execution_count": null,
      "outputs": [
        {
          "output_type": "display_data",
          "data": {
            "image/png": "[encoded data removed]",
            "text/plain": [
              "<Figure size 432x288 with 1 Axes>"
            ]
          },
          "metadata": {
            "needs_background": "light"
          }
        }
      ]
    },
    {
      "cell_type": "markdown",
      "metadata": {
        "id": "ZyotiqSb-SU6"
      },
      "source": [
        "## VGGNet (Working)"
      ]
    },
    {
      "cell_type": "code",
      "metadata": {
        "id": "9lXbaLfV-R4h"
      },
      "source": [
        "from tensorflow.keras.models import Sequential\n",
        "from tensorflow.keras.layers import *\n",
        "\n",
        "VGGNet = Sequential()\n",
        "\n",
        "VGGNet.add(Conv2D(input_shape=shape, filters=64, kernel_size=(3,3), padding=\"same\", name=\"conv64_1\"))\n",
        "VGGNet.add(BatchNormalization())\n",
        "VGGNet.add(Activation('relu'))\n",
        "VGGNet.add(Conv2D(filters=64, kernel_size=(3,3), padding=\"same\", name=\"conv64_2\"))\n",
        "VGGNet.add(BatchNormalization())\n",
        "VGGNet.add(Activation('relu'))\n",
        "VGGNet.add(MaxPool2D(pool_size=(2,2), strides=(2,2), name=\"maxpool_1\"))\n",
        "\n",
        "VGGNet.add(Conv2D(filters=128, kernel_size=(3,3), padding=\"same\", name=\"conv128_1\"))\n",
        "VGGNet.add(BatchNormalization())\n",
        "VGGNet.add(Activation('relu'))\n",
        "VGGNet.add(Conv2D(filters=128, kernel_size=(3,3), padding=\"same\", name=\"conv128_2\"))\n",
        "VGGNet.add(BatchNormalization())\n",
        "VGGNet.add(Activation('relu'))\n",
        "VGGNet.add(MaxPool2D(pool_size=(2,2),strides=(2,2), name=\"maxpool_2\"))\n",
        "\n",
        "VGGNet.add(Conv2D(filters=256, kernel_size=(3,3), padding=\"same\", name=\"conv256_1\"))\n",
        "VGGNet.add(BatchNormalization())\n",
        "VGGNet.add(Activation('relu'))\n",
        "VGGNet.add(Conv2D(filters=256, kernel_size=(3,3), padding=\"same\", name=\"conv256_2\"))\n",
        "VGGNet.add(BatchNormalization())\n",
        "VGGNet.add(Activation('relu'))\n",
        "VGGNet.add(Conv2D(filters=256, kernel_size=(3,3), padding=\"same\", name=\"conv256_3\"))\n",
        "VGGNet.add(BatchNormalization())\n",
        "VGGNet.add(Activation('relu'))\n",
        "VGGNet.add(MaxPool2D(pool_size=(2,2),strides=(2,2), name=\"maxpool_3\"))\n",
        "\n",
        "VGGNet.add(Conv2D(filters=512, kernel_size=(3,3), padding=\"same\", name=\"conv512_1\"))\n",
        "VGGNet.add(BatchNormalization())\n",
        "VGGNet.add(Activation('relu'))\n",
        "VGGNet.add(Conv2D(filters=512, kernel_size=(3,3), padding=\"same\", name=\"conv512_2\"))\n",
        "VGGNet.add(BatchNormalization())\n",
        "VGGNet.add(Activation('relu'))\n",
        "VGGNet.add(Conv2D(filters=512, kernel_size=(3,3), padding=\"same\", name=\"conv512_3\"))\n",
        "VGGNet.add(BatchNormalization())\n",
        "VGGNet.add(Activation('relu'))\n",
        "VGGNet.add(MaxPool2D(pool_size=(2,2),strides=(2,2), name=\"maxpool_4\"))\n",
        "\n",
        "VGGNet.add(Flatten(name=\"flatten\"))\n",
        "VGGNet.add(Dense(units=2048, activation=\"relu\", name=\"dense_1\"))\n",
        "VGGNet.add( Dropout(0.5, name='dropout_1'))\n",
        "VGGNet.add(Dense(units=2048,activation=\"relu\", name=\"dense_2\"))\n",
        "VGGNet.add( Dropout(0.5, name='dropout_2'))\n",
        "VGGNet.add(Dense(units=1024,activation=\"relu\", name=\"dense_3\"))\n",
        "VGGNet.add( Dropout(0.5, name='dropout_3'))\n",
        "VGGNet.add(Dense(units=49, activation=\"softmax\", name=\"softmax\"))"
      ],
      "execution_count": null,
      "outputs": []
    },
    {
      "cell_type": "code",
      "metadata": {
        "colab": {
          "base_uri": "https://localhost:8080/"
        },
        "id": "U-NmDklz_R33",
        "outputId": "c8507900-443e-4a2f-f309-918d4cead645"
      },
      "source": [
        "VGGNet.compile( optimizer= 'adam', loss=keras.losses.sparse_categorical_crossentropy, metrics=['accuracy'])\n",
        "VGGNet.summary()"
      ],
      "execution_count": null,
      "outputs": [
        {
          "output_type": "stream",
          "name": "stdout",
          "text": [
            "Model: \"sequential\"\n",
            "_________________________________________________________________\n",
            " Layer (type)                Output Shape              Param #   \n",
            "=================================================================\n",
            " conv64_1 (Conv2D)           (None, 28, 28, 64)        640       \n",
            "                                                                 \n",
            " batch_normalization (BatchN  (None, 28, 28, 64)       256       \n",
            " ormalization)                                                   \n",
            "                                                                 \n",
            " activation (Activation)     (None, 28, 28, 64)        0         \n",
            "                                                                 \n",
            " conv64_2 (Conv2D)           (None, 28, 28, 64)        36928     \n",
            "                                                                 \n",
            " batch_normalization_1 (Batc  (None, 28, 28, 64)       256       \n",
            " hNormalization)                                                 \n",
            "                                                                 \n",
            " activation_1 (Activation)   (None, 28, 28, 64)        0         \n",
            "                                                                 \n",
            " maxpool_1 (MaxPooling2D)    (None, 14, 14, 64)        0         \n",
            "                                                                 \n",
            " conv128_1 (Conv2D)          (None, 14, 14, 128)       73856     \n",
            "                                                                 \n",
            " batch_normalization_2 (Batc  (None, 14, 14, 128)      512       \n",
            " hNormalization)                                                 \n",
            "                                                                 \n",
            " activation_2 (Activation)   (None, 14, 14, 128)       0         \n",
            "                                                                 \n",
            " conv128_2 (Conv2D)          (None, 14, 14, 128)       147584    \n",
            "                                                                 \n",
            " batch_normalization_3 (Batc  (None, 14, 14, 128)      512       \n",
            " hNormalization)                                                 \n",
            "                                                                 \n",
            " activation_3 (Activation)   (None, 14, 14, 128)       0         \n",
            "                                                                 \n",
            " maxpool_2 (MaxPooling2D)    (None, 7, 7, 128)         0         \n",
            "                                                                 \n",
            " conv256_1 (Conv2D)          (None, 7, 7, 256)         295168    \n",
            "                                                                 \n",
            " batch_normalization_4 (Batc  (None, 7, 7, 256)        1024      \n",
            " hNormalization)                                                 \n",
            "                                                                 \n",
            " activation_4 (Activation)   (None, 7, 7, 256)         0         \n",
            "                                                                 \n",
            " conv256_2 (Conv2D)          (None, 7, 7, 256)         590080    \n",
            "                                                                 \n",
            " batch_normalization_5 (Batc  (None, 7, 7, 256)        1024      \n",
            " hNormalization)                                                 \n",
            "                                                                 \n",
            " activation_5 (Activation)   (None, 7, 7, 256)         0         \n",
            "                                                                 \n",
            " conv256_3 (Conv2D)          (None, 7, 7, 256)         590080    \n",
            "                                                                 \n",
            " batch_normalization_6 (Batc  (None, 7, 7, 256)        1024      \n",
            " hNormalization)                                                 \n",
            "                                                                 \n",
            " activation_6 (Activation)   (None, 7, 7, 256)         0         \n",
            "                                                                 \n",
            " maxpool_3 (MaxPooling2D)    (None, 3, 3, 256)         0         \n",
            "                                                                 \n",
            " conv512_1 (Conv2D)          (None, 3, 3, 512)         1180160   \n",
            "                                                                 \n",
            " batch_normalization_7 (Batc  (None, 3, 3, 512)        2048      \n",
            " hNormalization)                                                 \n",
            "                                                                 \n",
            " activation_7 (Activation)   (None, 3, 3, 512)         0         \n",
            "                                                                 \n",
            " conv512_2 (Conv2D)          (None, 3, 3, 512)         2359808   \n",
            "                                                                 \n",
            " batch_normalization_8 (Batc  (None, 3, 3, 512)        2048      \n",
            " hNormalization)                                                 \n",
            "                                                                 \n",
            " activation_8 (Activation)   (None, 3, 3, 512)         0         \n",
            "                                                                 \n",
            " conv512_3 (Conv2D)          (None, 3, 3, 512)         2359808   \n",
            "                                                                 \n",
            " batch_normalization_9 (Batc  (None, 3, 3, 512)        2048      \n",
            " hNormalization)                                                 \n",
            "                                                                 \n",
            " activation_9 (Activation)   (None, 3, 3, 512)         0         \n",
            "                                                                 \n",
            " maxpool_4 (MaxPooling2D)    (None, 1, 1, 512)         0         \n",
            "                                                                 \n",
            " flatten (Flatten)           (None, 512)               0         \n",
            "                                                                 \n",
            " dense_1 (Dense)             (None, 2048)              1050624   \n",
            "                                                                 \n",
            " dropout_1 (Dropout)         (None, 2048)              0         \n",
            "                                                                 \n",
            " dense_2 (Dense)             (None, 2048)              4196352   \n",
            "                                                                 \n",
            " dropout_2 (Dropout)         (None, 2048)              0         \n",
            "                                                                 \n",
            " dense_3 (Dense)             (None, 1024)              2098176   \n",
            "                                                                 \n",
            " dropout_3 (Dropout)         (None, 1024)              0         \n",
            "                                                                 \n",
            " softmax (Dense)             (None, 49)                50225     \n",
            "                                                                 \n",
            "=================================================================\n",
            "Total params: 15,040,241\n",
            "Trainable params: 15,034,865\n",
            "Non-trainable params: 5,376\n",
            "_________________________________________________________________\n"
          ]
        }
      ]
    },
    {
      "cell_type": "code",
      "metadata": {
        "colab": {
          "base_uri": "https://localhost:8080/"
        },
        "id": "PhLnGIhf-Uye",
        "outputId": "8854bbc1-3e59-4c61-927c-c788dcf8604a"
      },
      "source": [
        "from keras.callbacks import ModelCheckpoint, EarlyStopping\n",
        "\n",
        "checkpoint = ModelCheckpoint(\"vgg16_1.h5\", \n",
        "                             monitor='val_acc', \n",
        "                             verbose=1, \n",
        "                             save_best_only=True, \n",
        "                             save_weights_only=False, \n",
        "                             mode='auto', \n",
        "                             period=1)\n",
        "\n",
        "early = EarlyStopping(monitor='val_acc', \n",
        "                      min_delta=0, \n",
        "                      patience=20, \n",
        "                      verbose=1, \n",
        "                      mode='auto')"
      ],
      "execution_count": null,
      "outputs": [
        {
          "output_type": "stream",
          "name": "stdout",
          "text": [
            "WARNING:tensorflow:`period` argument is deprecated. Please use `save_freq` to specify the frequency in number of batches seen.\n"
          ]
        }
      ]
    },
    {
      "cell_type": "code",
      "metadata": {
        "colab": {
          "base_uri": "https://localhost:8080/"
        },
        "id": "VIa6yvQx_Y66",
        "outputId": "06702cde-c01c-4926-d4ce-32ba145dfbd3"
      },
      "source": [
        "vgg_hist = VGGNet.fit(datagen.flow(train_images,train_labels,shuffle=True),\n",
        "           validation_data=(test_images,test_labels), \n",
        "           epochs=40,\n",
        "           callbacks=[checkpoint,early])\n",
        "\n",
        "VGGNet.save(\"VGGNet.h5\")"
      ],
      "execution_count": null,
      "outputs": [
        {
          "output_type": "stream",
          "name": "stdout",
          "text": [
            "Epoch 1/40\n",
            "7262/7262 [==============================] - ETA: 0s - loss: 1.1190 - accuracy: 0.7070WARNING:tensorflow:Can save best model only with val_acc available, skipping.\n",
            "WARNING:tensorflow:Early stopping conditioned on metric `val_acc` which is not available. Available metrics are: loss,accuracy,val_loss,val_accuracy\n",
            "7262/7262 [==============================] - 138s 19ms/step - loss: 1.1190 - accuracy: 0.7070 - val_loss: 0.7473 - val_accuracy: 0.8201\n",
            "Epoch 2/40\n",
            "7262/7262 [==============================] - ETA: 0s - loss: 0.4090 - accuracy: 0.9040WARNING:tensorflow:Can save best model only with val_acc available, skipping.\n",
            "WARNING:tensorflow:Early stopping conditioned on metric `val_acc` which is not available. Available metrics are: loss,accuracy,val_loss,val_accuracy\n",
            "7262/7262 [==============================] - 138s 19ms/step - loss: 0.4090 - accuracy: 0.9040 - val_loss: 0.4201 - val_accuracy: 0.9021\n",
            "Epoch 3/40\n",
            "7261/7262 [============================>.] - ETA: 0s - loss: 0.3177 - accuracy: 0.9277WARNING:tensorflow:Can save best model only with val_acc available, skipping.\n",
            "WARNING:tensorflow:Early stopping conditioned on metric `val_acc` which is not available. Available metrics are: loss,accuracy,val_loss,val_accuracy\n",
            "7262/7262 [==============================] - 133s 18ms/step - loss: 0.3177 - accuracy: 0.9277 - val_loss: 0.3808 - val_accuracy: 0.9106\n",
            "Epoch 4/40\n",
            "7260/7262 [============================>.] - ETA: 0s - loss: 0.2730 - accuracy: 0.9388WARNING:tensorflow:Can save best model only with val_acc available, skipping.\n",
            "WARNING:tensorflow:Early stopping conditioned on metric `val_acc` which is not available. Available metrics are: loss,accuracy,val_loss,val_accuracy\n",
            "7262/7262 [==============================] - 137s 19ms/step - loss: 0.2730 - accuracy: 0.9387 - val_loss: 0.3686 - val_accuracy: 0.9162\n",
            "Epoch 5/40\n",
            "7260/7262 [============================>.] - ETA: 0s - loss: 0.2508 - accuracy: 0.9446WARNING:tensorflow:Can save best model only with val_acc available, skipping.\n",
            "WARNING:tensorflow:Early stopping conditioned on metric `val_acc` which is not available. Available metrics are: loss,accuracy,val_loss,val_accuracy\n",
            "7262/7262 [==============================] - 137s 19ms/step - loss: 0.2508 - accuracy: 0.9446 - val_loss: 0.2835 - val_accuracy: 0.9349\n",
            "Epoch 6/40\n",
            "7262/7262 [==============================] - ETA: 0s - loss: 0.2330 - accuracy: 0.9487WARNING:tensorflow:Can save best model only with val_acc available, skipping.\n",
            "WARNING:tensorflow:Early stopping conditioned on metric `val_acc` which is not available. Available metrics are: loss,accuracy,val_loss,val_accuracy\n",
            "7262/7262 [==============================] - 137s 19ms/step - loss: 0.2330 - accuracy: 0.9487 - val_loss: 0.2625 - val_accuracy: 0.9445\n",
            "Epoch 7/40\n",
            "7262/7262 [==============================] - ETA: 0s - loss: 0.2212 - accuracy: 0.9519WARNING:tensorflow:Can save best model only with val_acc available, skipping.\n",
            "WARNING:tensorflow:Early stopping conditioned on metric `val_acc` which is not available. Available metrics are: loss,accuracy,val_loss,val_accuracy\n",
            "7262/7262 [==============================] - 133s 18ms/step - loss: 0.2212 - accuracy: 0.9519 - val_loss: 0.2692 - val_accuracy: 0.9446\n",
            "Epoch 8/40\n",
            "7260/7262 [============================>.] - ETA: 0s - loss: 0.2141 - accuracy: 0.9538WARNING:tensorflow:Can save best model only with val_acc available, skipping.\n",
            "WARNING:tensorflow:Early stopping conditioned on metric `val_acc` which is not available. Available metrics are: loss,accuracy,val_loss,val_accuracy\n",
            "7262/7262 [==============================] - 133s 18ms/step - loss: 0.2141 - accuracy: 0.9538 - val_loss: 0.2811 - val_accuracy: 0.9403\n",
            "Epoch 9/40\n",
            "7260/7262 [============================>.] - ETA: 0s - loss: 0.2079 - accuracy: 0.9557WARNING:tensorflow:Can save best model only with val_acc available, skipping.\n",
            "WARNING:tensorflow:Early stopping conditioned on metric `val_acc` which is not available. Available metrics are: loss,accuracy,val_loss,val_accuracy\n",
            "7262/7262 [==============================] - 137s 19ms/step - loss: 0.2079 - accuracy: 0.9557 - val_loss: 0.3170 - val_accuracy: 0.9360\n",
            "Epoch 10/40\n",
            "7260/7262 [============================>.] - ETA: 0s - loss: 0.1991 - accuracy: 0.9577WARNING:tensorflow:Can save best model only with val_acc available, skipping.\n",
            "WARNING:tensorflow:Early stopping conditioned on metric `val_acc` which is not available. Available metrics are: loss,accuracy,val_loss,val_accuracy\n",
            "7262/7262 [==============================] - 138s 19ms/step - loss: 0.1990 - accuracy: 0.9577 - val_loss: 0.2450 - val_accuracy: 0.9478\n",
            "Epoch 11/40\n",
            "7260/7262 [============================>.] - ETA: 0s - loss: 0.1990 - accuracy: 0.9578WARNING:tensorflow:Can save best model only with val_acc available, skipping.\n",
            "WARNING:tensorflow:Early stopping conditioned on metric `val_acc` which is not available. Available metrics are: loss,accuracy,val_loss,val_accuracy\n",
            "7262/7262 [==============================] - 137s 19ms/step - loss: 0.1990 - accuracy: 0.9578 - val_loss: 0.2918 - val_accuracy: 0.9415\n",
            "Epoch 12/40\n",
            "7259/7262 [============================>.] - ETA: 0s - loss: 0.1975 - accuracy: 0.9588WARNING:tensorflow:Can save best model only with val_acc available, skipping.\n",
            "WARNING:tensorflow:Early stopping conditioned on metric `val_acc` which is not available. Available metrics are: loss,accuracy,val_loss,val_accuracy\n",
            "7262/7262 [==============================] - 133s 18ms/step - loss: 0.1975 - accuracy: 0.9588 - val_loss: 0.2988 - val_accuracy: 0.9571\n",
            "Epoch 13/40\n",
            "7260/7262 [============================>.] - ETA: 0s - loss: 0.1918 - accuracy: 0.9604WARNING:tensorflow:Can save best model only with val_acc available, skipping.\n",
            "WARNING:tensorflow:Early stopping conditioned on metric `val_acc` which is not available. Available metrics are: loss,accuracy,val_loss,val_accuracy\n",
            "7262/7262 [==============================] - 138s 19ms/step - loss: 0.1918 - accuracy: 0.9604 - val_loss: 0.3573 - val_accuracy: 0.9482\n",
            "Epoch 14/40\n",
            "7260/7262 [============================>.] - ETA: 0s - loss: 0.1902 - accuracy: 0.9609WARNING:tensorflow:Can save best model only with val_acc available, skipping.\n",
            "WARNING:tensorflow:Early stopping conditioned on metric `val_acc` which is not available. Available metrics are: loss,accuracy,val_loss,val_accuracy\n",
            "7262/7262 [==============================] - 137s 19ms/step - loss: 0.1902 - accuracy: 0.9609 - val_loss: 0.2601 - val_accuracy: 0.9519\n",
            "Epoch 15/40\n",
            "7261/7262 [============================>.] - ETA: 0s - loss: 0.1901 - accuracy: 0.9617WARNING:tensorflow:Can save best model only with val_acc available, skipping.\n",
            "WARNING:tensorflow:Early stopping conditioned on metric `val_acc` which is not available. Available metrics are: loss,accuracy,val_loss,val_accuracy\n",
            "7262/7262 [==============================] - 137s 19ms/step - loss: 0.1900 - accuracy: 0.9617 - val_loss: 0.2993 - val_accuracy: 0.9533\n",
            "Epoch 16/40\n",
            "7260/7262 [============================>.] - ETA: 0s - loss: 0.1851 - accuracy: 0.9621WARNING:tensorflow:Can save best model only with val_acc available, skipping.\n",
            "WARNING:tensorflow:Early stopping conditioned on metric `val_acc` which is not available. Available metrics are: loss,accuracy,val_loss,val_accuracy\n",
            "7262/7262 [==============================] - 136s 19ms/step - loss: 0.1852 - accuracy: 0.9621 - val_loss: 0.3572 - val_accuracy: 0.9460\n",
            "Epoch 17/40\n",
            "7259/7262 [============================>.] - ETA: 0s - loss: 0.1875 - accuracy: 0.9613WARNING:tensorflow:Can save best model only with val_acc available, skipping.\n",
            "WARNING:tensorflow:Early stopping conditioned on metric `val_acc` which is not available. Available metrics are: loss,accuracy,val_loss,val_accuracy\n",
            "7262/7262 [==============================] - 132s 18ms/step - loss: 0.1874 - accuracy: 0.9613 - val_loss: 0.3089 - val_accuracy: 0.9427\n",
            "Epoch 18/40\n",
            "7259/7262 [============================>.] - ETA: 0s - loss: 0.1884 - accuracy: 0.9622WARNING:tensorflow:Can save best model only with val_acc available, skipping.\n",
            "WARNING:tensorflow:Early stopping conditioned on metric `val_acc` which is not available. Available metrics are: loss,accuracy,val_loss,val_accuracy\n",
            "7262/7262 [==============================] - 137s 19ms/step - loss: 0.1884 - accuracy: 0.9622 - val_loss: 0.2892 - val_accuracy: 0.9539\n",
            "Epoch 19/40\n",
            "7262/7262 [==============================] - ETA: 0s - loss: 0.1894 - accuracy: 0.9616WARNING:tensorflow:Can save best model only with val_acc available, skipping.\n",
            "WARNING:tensorflow:Early stopping conditioned on metric `val_acc` which is not available. Available metrics are: loss,accuracy,val_loss,val_accuracy\n",
            "7262/7262 [==============================] - 133s 18ms/step - loss: 0.1894 - accuracy: 0.9616 - val_loss: 0.4796 - val_accuracy: 0.9317\n",
            "Epoch 20/40\n",
            "7262/7262 [==============================] - ETA: 0s - loss: 0.1911 - accuracy: 0.9616WARNING:tensorflow:Can save best model only with val_acc available, skipping.\n",
            "WARNING:tensorflow:Early stopping conditioned on metric `val_acc` which is not available. Available metrics are: loss,accuracy,val_loss,val_accuracy\n",
            "7262/7262 [==============================] - 138s 19ms/step - loss: 0.1911 - accuracy: 0.9616 - val_loss: 0.3266 - val_accuracy: 0.9564\n",
            "Epoch 21/40\n",
            "7259/7262 [============================>.] - ETA: 0s - loss: 0.1818 - accuracy: 0.9632WARNING:tensorflow:Can save best model only with val_acc available, skipping.\n",
            "WARNING:tensorflow:Early stopping conditioned on metric `val_acc` which is not available. Available metrics are: loss,accuracy,val_loss,val_accuracy\n",
            "7262/7262 [==============================] - 137s 19ms/step - loss: 0.1818 - accuracy: 0.9632 - val_loss: 0.3232 - val_accuracy: 0.9537\n",
            "Epoch 22/40\n",
            "7260/7262 [============================>.] - ETA: 0s - loss: 0.1842 - accuracy: 0.9633WARNING:tensorflow:Can save best model only with val_acc available, skipping.\n",
            "WARNING:tensorflow:Early stopping conditioned on metric `val_acc` which is not available. Available metrics are: loss,accuracy,val_loss,val_accuracy\n",
            "7262/7262 [==============================] - 133s 18ms/step - loss: 0.1842 - accuracy: 0.9633 - val_loss: 0.3436 - val_accuracy: 0.9545\n",
            "Epoch 23/40\n",
            "7261/7262 [============================>.] - ETA: 0s - loss: 0.1851 - accuracy: 0.9628WARNING:tensorflow:Can save best model only with val_acc available, skipping.\n",
            "WARNING:tensorflow:Early stopping conditioned on metric `val_acc` which is not available. Available metrics are: loss,accuracy,val_loss,val_accuracy\n",
            "7262/7262 [==============================] - 134s 18ms/step - loss: 0.1851 - accuracy: 0.9628 - val_loss: 0.4470 - val_accuracy: 0.9569\n",
            "Epoch 24/40\n",
            "7261/7262 [============================>.] - ETA: 0s - loss: 0.1860 - accuracy: 0.9631WARNING:tensorflow:Can save best model only with val_acc available, skipping.\n",
            "WARNING:tensorflow:Early stopping conditioned on metric `val_acc` which is not available. Available metrics are: loss,accuracy,val_loss,val_accuracy\n",
            "7262/7262 [==============================] - 137s 19ms/step - loss: 0.1861 - accuracy: 0.9631 - val_loss: 0.3818 - val_accuracy: 0.9545\n",
            "Epoch 25/40\n",
            "7261/7262 [============================>.] - ETA: 0s - loss: 0.1881 - accuracy: 0.9630WARNING:tensorflow:Can save best model only with val_acc available, skipping.\n",
            "WARNING:tensorflow:Early stopping conditioned on metric `val_acc` which is not available. Available metrics are: loss,accuracy,val_loss,val_accuracy\n",
            "7262/7262 [==============================] - 137s 19ms/step - loss: 0.1881 - accuracy: 0.9630 - val_loss: 0.3701 - val_accuracy: 0.9536\n",
            "Epoch 26/40\n",
            "7262/7262 [==============================] - ETA: 0s - loss: 0.1875 - accuracy: 0.9631WARNING:tensorflow:Can save best model only with val_acc available, skipping.\n",
            "WARNING:tensorflow:Early stopping conditioned on metric `val_acc` which is not available. Available metrics are: loss,accuracy,val_loss,val_accuracy\n",
            "7262/7262 [==============================] - 138s 19ms/step - loss: 0.1875 - accuracy: 0.9631 - val_loss: 0.2808 - val_accuracy: 0.9561\n",
            "Epoch 27/40\n",
            "7262/7262 [==============================] - ETA: 0s - loss: 0.1864 - accuracy: 0.9632WARNING:tensorflow:Can save best model only with val_acc available, skipping.\n",
            "WARNING:tensorflow:Early stopping conditioned on metric `val_acc` which is not available. Available metrics are: loss,accuracy,val_loss,val_accuracy\n",
            "7262/7262 [==============================] - 138s 19ms/step - loss: 0.1864 - accuracy: 0.9632 - val_loss: 0.3645 - val_accuracy: 0.9469\n",
            "Epoch 28/40\n",
            "7262/7262 [==============================] - ETA: 0s - loss: 0.1930 - accuracy: 0.9626WARNING:tensorflow:Can save best model only with val_acc available, skipping.\n",
            "WARNING:tensorflow:Early stopping conditioned on metric `val_acc` which is not available. Available metrics are: loss,accuracy,val_loss,val_accuracy\n",
            "7262/7262 [==============================] - 133s 18ms/step - loss: 0.1930 - accuracy: 0.9626 - val_loss: 0.3357 - val_accuracy: 0.9529\n",
            "Epoch 29/40\n",
            "7260/7262 [============================>.] - ETA: 0s - loss: 0.1871 - accuracy: 0.9634WARNING:tensorflow:Can save best model only with val_acc available, skipping.\n",
            "WARNING:tensorflow:Early stopping conditioned on metric `val_acc` which is not available. Available metrics are: loss,accuracy,val_loss,val_accuracy\n",
            "7262/7262 [==============================] - 133s 18ms/step - loss: 0.1871 - accuracy: 0.9634 - val_loss: 0.3907 - val_accuracy: 0.9467\n",
            "Epoch 30/40\n",
            "7262/7262 [==============================] - ETA: 0s - loss: 0.1993 - accuracy: 0.9626WARNING:tensorflow:Can save best model only with val_acc available, skipping.\n",
            "WARNING:tensorflow:Early stopping conditioned on metric `val_acc` which is not available. Available metrics are: loss,accuracy,val_loss,val_accuracy\n",
            "7262/7262 [==============================] - 137s 19ms/step - loss: 0.1993 - accuracy: 0.9626 - val_loss: 0.3899 - val_accuracy: 0.9504\n",
            "Epoch 31/40\n",
            "7260/7262 [============================>.] - ETA: 0s - loss: 0.1927 - accuracy: 0.9625WARNING:tensorflow:Can save best model only with val_acc available, skipping.\n",
            "WARNING:tensorflow:Early stopping conditioned on metric `val_acc` which is not available. Available metrics are: loss,accuracy,val_loss,val_accuracy\n",
            "7262/7262 [==============================] - 133s 18ms/step - loss: 0.1927 - accuracy: 0.9625 - val_loss: 0.4279 - val_accuracy: 0.9442\n",
            "Epoch 32/40\n",
            "7262/7262 [==============================] - ETA: 0s - loss: 0.1953 - accuracy: 0.9624WARNING:tensorflow:Can save best model only with val_acc available, skipping.\n",
            "WARNING:tensorflow:Early stopping conditioned on metric `val_acc` which is not available. Available metrics are: loss,accuracy,val_loss,val_accuracy\n",
            "7262/7262 [==============================] - 138s 19ms/step - loss: 0.1953 - accuracy: 0.9624 - val_loss: 0.5232 - val_accuracy: 0.9527\n",
            "Epoch 33/40\n",
            "7260/7262 [============================>.] - ETA: 0s - loss: 0.1988 - accuracy: 0.9617WARNING:tensorflow:Can save best model only with val_acc available, skipping.\n",
            "WARNING:tensorflow:Early stopping conditioned on metric `val_acc` which is not available. Available metrics are: loss,accuracy,val_loss,val_accuracy\n",
            "7262/7262 [==============================] - 141s 19ms/step - loss: 0.1989 - accuracy: 0.9617 - val_loss: 0.5415 - val_accuracy: 0.9550\n",
            "Epoch 34/40\n",
            "7260/7262 [============================>.] - ETA: 0s - loss: 0.2191 - accuracy: 0.9611WARNING:tensorflow:Can save best model only with val_acc available, skipping.\n",
            "WARNING:tensorflow:Early stopping conditioned on metric `val_acc` which is not available. Available metrics are: loss,accuracy,val_loss,val_accuracy\n",
            "7262/7262 [==============================] - 133s 18ms/step - loss: 0.2191 - accuracy: 0.9611 - val_loss: 0.3859 - val_accuracy: 0.9545\n",
            "Epoch 35/40\n",
            "7262/7262 [==============================] - ETA: 0s - loss: 0.2022 - accuracy: 0.9624WARNING:tensorflow:Can save best model only with val_acc available, skipping.\n",
            "WARNING:tensorflow:Early stopping conditioned on metric `val_acc` which is not available. Available metrics are: loss,accuracy,val_loss,val_accuracy\n",
            "7262/7262 [==============================] - 137s 19ms/step - loss: 0.2022 - accuracy: 0.9624 - val_loss: 0.3886 - val_accuracy: 0.9556\n",
            "Epoch 36/40\n",
            "7261/7262 [============================>.] - ETA: 0s - loss: 0.1948 - accuracy: 0.9626WARNING:tensorflow:Can save best model only with val_acc available, skipping.\n",
            "WARNING:tensorflow:Early stopping conditioned on metric `val_acc` which is not available. Available metrics are: loss,accuracy,val_loss,val_accuracy\n",
            "7262/7262 [==============================] - 137s 19ms/step - loss: 0.1949 - accuracy: 0.9626 - val_loss: 0.5827 - val_accuracy: 0.9430\n",
            "Epoch 37/40\n",
            "7262/7262 [==============================] - ETA: 0s - loss: 0.2180 - accuracy: 0.9587WARNING:tensorflow:Can save best model only with val_acc available, skipping.\n",
            "WARNING:tensorflow:Early stopping conditioned on metric `val_acc` which is not available. Available metrics are: loss,accuracy,val_loss,val_accuracy\n",
            "7262/7262 [==============================] - 134s 18ms/step - loss: 0.2180 - accuracy: 0.9587 - val_loss: 0.4721 - val_accuracy: 0.9354\n",
            "Epoch 38/40\n",
            "7261/7262 [============================>.] - ETA: 0s - loss: 0.1964 - accuracy: 0.9631WARNING:tensorflow:Can save best model only with val_acc available, skipping.\n",
            "WARNING:tensorflow:Early stopping conditioned on metric `val_acc` which is not available. Available metrics are: loss,accuracy,val_loss,val_accuracy\n",
            "7262/7262 [==============================] - 138s 19ms/step - loss: 0.1964 - accuracy: 0.9631 - val_loss: 0.4773 - val_accuracy: 0.9503\n",
            "Epoch 39/40\n",
            "7260/7262 [============================>.] - ETA: 0s - loss: 0.1943 - accuracy: 0.9626WARNING:tensorflow:Can save best model only with val_acc available, skipping.\n",
            "WARNING:tensorflow:Early stopping conditioned on metric `val_acc` which is not available. Available metrics are: loss,accuracy,val_loss,val_accuracy\n",
            "7262/7262 [==============================] - 135s 19ms/step - loss: 0.1943 - accuracy: 0.9626 - val_loss: 0.3065 - val_accuracy: 0.9576\n",
            "Epoch 40/40\n",
            "7261/7262 [============================>.] - ETA: 0s - loss: 0.1939 - accuracy: 0.9631WARNING:tensorflow:Can save best model only with val_acc available, skipping.\n",
            "WARNING:tensorflow:Early stopping conditioned on metric `val_acc` which is not available. Available metrics are: loss,accuracy,val_loss,val_accuracy\n",
            "7262/7262 [==============================] - 134s 18ms/step - loss: 0.1940 - accuracy: 0.9631 - val_loss: 0.4780 - val_accuracy: 0.9495\n"
          ]
        }
      ]
    },
    {
      "cell_type": "code",
      "metadata": {
        "colab": {
          "base_uri": "https://localhost:8080/",
          "height": 294
        },
        "id": "SI-QKwgh29Sv",
        "outputId": "2c439590-bfa5-47d4-f63a-ac132d565fa7"
      },
      "source": [
        "from matplotlib import pyplot as plt\n",
        "\n",
        "tr_accuracy = vgg_hist.history['accuracy']\n",
        "val_accuracy = vgg_hist.history['val_accuracy']\n",
        "\n",
        "plt.plot(tr_accuracy)\n",
        "plt.plot(val_accuracy)\n",
        "plt.title('VGGNet Accuracy')\n",
        "plt.xlabel('epochs')\n",
        "plt.ylabel('accuracy')\n",
        "plt.legend(['Training accuracy', 'Validation accuracy']);"
      ],
      "execution_count": null,
      "outputs": [
        {
          "output_type": "display_data",
          "data": {
            "image/png": "[encoded data removed]",
            "text/plain": [
              "<Figure size 432x288 with 1 Axes>"
            ]
          },
          "metadata": {
            "needs_background": "light"
          }
        }
      ]
    },
    {
      "cell_type": "code",
      "metadata": {
        "colab": {
          "base_uri": "https://localhost:8080/",
          "height": 294
        },
        "id": "96WbNF3j28p2",
        "outputId": "37ffa67f-7bfd-4e85-dfde-9594af79ed3c"
      },
      "source": [
        "tr_loss = vgg_hist.history['loss']\n",
        "val_loss = vgg_hist.history['val_loss']\n",
        "\n",
        "plt.plot(tr_loss)\n",
        "plt.plot(val_loss)\n",
        "plt.title('VGGNet Loss')\n",
        "plt.xlabel('epochs')\n",
        "plt.ylabel('loss')\n",
        "plt.legend(['Training loss', 'Validation loss']);"
      ],
      "execution_count": null,
      "outputs": [
        {
          "output_type": "display_data",
          "data": {
            "image/png": "[encoded data removed]",
            "text/plain": [
              "<Figure size 432x288 with 1 Axes>"
            ]
          },
          "metadata": {
            "needs_background": "light"
          }
        }
      ]
    },
    {
      "cell_type": "code",
      "source": [
        ""
      ],
      "metadata": {
        "id": "ZNLMf_QHWAqG"
      },
      "execution_count": null,
      "outputs": []
    },
    {
      "cell_type": "markdown",
      "source": [
        "#Importing self-written characters for recognition\n"
      ],
      "metadata": {
        "id": "CV7IUN6pINaz"
      }
    },
    {
      "cell_type": "code",
      "source": [
        "'''\n",
        "The following packages are imported for loading and preprocessing images, \n",
        "make prediciton from the models produced, and send the prediction result \n",
        "to DeepL API for translation.\n",
        "'''\n",
        "import os\n",
        "import tensorflow as tf\n",
        "from tensorflow import keras\n",
        "import numpy as np\n",
        "import matplotlib.pyplot as plt\n",
        "from PIL import Image\n",
        "import requests\n",
        "import json"
      ],
      "metadata": {
        "id": "sH1iUaTJH0o1"
      },
      "execution_count": null,
      "outputs": []
    },
    {
      "cell_type": "code",
      "source": [
        "# Import the saved models for prediction\n",
        "\n",
        "cnn = tf.keras.models.load_model(\"CNN.h5\")\n",
        "alexnet = tf.keras.models.load_model(\"AlexNet.h5\")\n",
        "vgg = tf.keras.models.load_model(\"VGGNet.h5\")"
      ],
      "metadata": {
        "id": "f_zwXC60VpTE"
      },
      "execution_count": null,
      "outputs": []
    },
    {
      "cell_type": "code",
      "source": [
        "# The mapping between classes and characters can be refered to\n",
        "# http://codh.rois.ac.jp/kmnist/dataset/k49/k49_classmap.csv\n",
        "\n",
        "hiragana_dict = {0:\"あ\", 1:\"い\", 2:\"う\", 3:\"え\", 4:\"お\",\n",
        "                 5:\"か\", 6:\"き\", 7:\"く\", 8:\"け\", 9:\"こ\",\n",
        "                 10:\"さ\", 11:\"し\", 12:\"す\", 13:\"せ\", 14:\"そ\",\n",
        "                 15:\"た\", 16:\"ち\", 17:\"つ\", 18:\"て\", 19:\"と\",\n",
        "                 20:\"な\", 21:\"に\", 22:\"ぬ\", 23:\"ね\", 24:\"の\",\n",
        "                 25:\"は\", 26:\"ひ\", 27:\"ふ\", 28:\"へ\", 29:\"ほ\",\n",
        "                 30:\"ま\", 31:\"み\", 32:\"む\", 33:\"め\", 34:\"も\",\n",
        "                 35:\"や\", 36:\"ゆ\", 37:\"よ\", \n",
        "                 38:\"ら\", 39:\"り\", 40:\"る\", 41:\"れ\", 42:\"ろ\", \n",
        "                 43:\"わ\", 44:\"ゐ\", 45:\"ゑ\", 46:\"を\", \n",
        "                 47:\"ん\", 48:\"ゝ\"}"
      ],
      "metadata": {
        "id": "SC1We-m3WNGK"
      },
      "execution_count": null,
      "outputs": []
    },
    {
      "cell_type": "code",
      "source": [
        "# Helper function to send translation request to DeepL API\n",
        "# The response from DeepL is returned\n",
        "\n",
        "# Documentation for DeepL API can be found here: https://www.deepl.com/en/docs-api/\n",
        "\n",
        "DeepL_auth_key = \"XXXXXXXXXXXXXXXXXXXXXXXX\"\n",
        "\n",
        "def DeepL_translation(JP_string):\n",
        "    r = requests.post(url=\"https://api-free.deepl.com/v2/translate\",\n",
        "                        data={\n",
        "                        \"text\" : JP_string,\n",
        "                        \"source_lang\" : \"JA\",\n",
        "                        \"target_lang\" : \"EN-US\",\n",
        "                        \"auth_key\" : DeepL_auth_key,\n",
        "                        })\n",
        "    return r"
      ],
      "metadata": {
        "id": "wKVlq-biXP-z"
      },
      "execution_count": null,
      "outputs": []
    },
    {
      "cell_type": "code",
      "source": [
        "# Helper function to make prediciton for each model, and \n",
        "# print translation from DeepL API\n",
        "\n",
        "def predict_and_translate(jp_string):\n",
        "    # CNN Model Prediction\n",
        "    cnn_prediction = []\n",
        "    for x in range(l):\n",
        "        pred = cnn.predict(jp_string[x])\n",
        "        cnn_prediction.append(hiragana_dict[np.argmax(pred)])\n",
        "    cnn_prediction = ''.join(cnn_prediction)\n",
        "\n",
        "    # Print the prediction of each characters\n",
        "    print(\"CNN:\", cnn_prediction)\n",
        "    # Send request to DeepL API and print translation\n",
        "    response = DeepL_translation(cnn_prediction)\n",
        "    print(\"Translation:\", response.json()[\"translations\"][0][\"text\"], \"\\r\\n\")\n",
        "\n",
        "    # AlexNet Model Prediciton\n",
        "    alex_prediction = []\n",
        "    for x in range(l):\n",
        "        pred = alexnet.predict(jp_string[x])\n",
        "        alex_prediction.append(hiragana_dict[np.argmax(pred)])\n",
        "    alex_prediction = ''.join(alex_prediction)\n",
        "    print(\"AlexNet:\", alex_prediction)\n",
        "    response = DeepL_translation(alex_prediction)\n",
        "    print(\"Translation:\", response.json()[\"translations\"][0][\"text\"], \"\\r\\n\")\n",
        "\n",
        "    vgg_prediction = []\n",
        "    for x in range(l):\n",
        "        pred = vgg.predict(jp_string[x])\n",
        "        vgg_prediction.append(hiragana_dict[np.argmax(pred)])\n",
        "    vgg_prediction = ''.join(vgg_prediction)\n",
        "    print(\"VGGNet:\", vgg_prediction)\n",
        "    response = DeepL_translation(alex_prediction)\n",
        "    print(\"Translation:\", response.json()[\"translations\"][0][\"text\"], \"\\r\\n\")"
      ],
      "metadata": {
        "id": "NpzGxkE_aXgD"
      },
      "execution_count": null,
      "outputs": []
    },
    {
      "cell_type": "markdown",
      "source": [
        "## Test cases:\n",
        "The following test cases are created (with kanji (if available) and corresponding meaning(s)):\n",
        "\n",
        "1.   おやすみなさい (Good night)\n",
        "2.   おはよう (Good morning)\n",
        "3.   わかります (分かります, Understood)\n",
        "4.   お母さん (お母さん, Mother)\n",
        "5.   よこはまにいきたい (横浜に行きたい, (I) want to go to Yokohama)\n",
        "6.   きょうてんきはよい (今日天気は良い, Weather is good today)\n",
        "7.   えき (駅, station; 液, fluid)\n",
        "8.   よる (夜, night ; 寄る, lean on/against)\n",
        "9.   そと (外, outside)"
      ],
      "metadata": {
        "id": "kjndMDz-XiN_"
      }
    },
    {
      "cell_type": "markdown",
      "source": [
        "Since our algorithm does not include function to identify a image of a group of hiragana, the characters are taken out individually for classification."
      ],
      "metadata": {
        "id": "Uc3S2mlQZkxO"
      }
    },
    {
      "cell_type": "markdown",
      "source": [
        "### Test Case 1: おやすみなさい"
      ],
      "metadata": {
        "id": "NAZjYi8TZ4jW"
      }
    },
    {
      "cell_type": "code",
      "source": [
        "# Load the individual handwritting characters into a list\n",
        "jp_string = []\n",
        "jp_string.append(Image.open(\"1_1_o.png\").convert(\"L\").resize((28,28)))\n",
        "jp_string.append(Image.open(\"1_2_ya.png\").convert(\"L\").resize((28,28)))\n",
        "jp_string.append(Image.open(\"1_3_su.png\").convert(\"L\").resize((28,28)))\n",
        "jp_string.append(Image.open(\"1_4_mi.png\").convert(\"L\").resize((28,28)))\n",
        "jp_string.append(Image.open(\"1_5_na.png\").convert(\"L\").resize((28,28)))\n",
        "jp_string.append(Image.open(\"1_6_sa.png\").convert(\"L\").resize((28,28)))\n",
        "jp_string.append(Image.open(\"1_7_i.png\").convert(\"L\").resize((28,28)))\n",
        "l = len(jp_string)\n",
        "\n",
        "for x in range(l):\n",
        "    plt.subplot(1,l,x+1)\n",
        "    plt.imshow(jp_string[x])\n",
        "\n",
        "plt.show()"
      ],
      "metadata": {
        "id": "T-IfFBVWZ95P",
        "colab": {
          "base_uri": "https://localhost:8080/",
          "height": 92
        },
        "outputId": "fd411c05-8279-4435-c6ac-af655daefac1"
      },
      "execution_count": null,
      "outputs": [
        {
          "output_type": "display_data",
          "data": {
            "image/png": "[encoded data removed]",
            "text/plain": [
              "<Figure size 432x288 with 7 Axes>"
            ]
          },
          "metadata": {
            "needs_background": "light"
          }
        }
      ]
    },
    {
      "cell_type": "code",
      "source": [
        "# Data preprocessing\n",
        "for x in range(l):\n",
        "    jp_string[x] = np.array(jp_string[x])\n",
        "    jp_string[x] = 255 - jp_string[x]\n",
        "    jp_string[x] = jp_string[x] / 255\n",
        "    jp_string[x] = jp_string[x].reshape((1,28,28,1))\n",
        "\n",
        "predict_and_translate(jp_string)"
      ],
      "metadata": {
        "id": "iF7x4kg3aAZf",
        "colab": {
          "base_uri": "https://localhost:8080/"
        },
        "outputId": "d3445fab-25e5-44eb-efab-98396c793137"
      },
      "execution_count": null,
      "outputs": [
        {
          "output_type": "stream",
          "name": "stdout",
          "text": [
            "CNN: あとすみなさけ\n",
            "Translation: finishing touches \n",
            "\n",
            "AlexNet: あやすのやさい\n",
            "Translation: vegetables not high in beta-carotene \n",
            "\n",
            "VGGNet: あやすみるさい\n",
            "Translation: vegetables not high in beta-carotene \n",
            "\n"
          ]
        }
      ]
    },
    {
      "cell_type": "markdown",
      "source": [
        "### Test Case 2: おはよう"
      ],
      "metadata": {
        "id": "UnhXBBvqcwmE"
      }
    },
    {
      "cell_type": "code",
      "source": [
        "jp_string = []\n",
        "jp_string.append(Image.open(\"2_1_o.png\").convert(\"L\").resize((28,28)))\n",
        "jp_string.append(Image.open(\"2_2_ha.png\").convert(\"L\").resize((28,28)))\n",
        "jp_string.append(Image.open(\"2_3_yo.png\").convert(\"L\").resize((28,28)))\n",
        "jp_string.append(Image.open(\"2_4_u.png\").convert(\"L\").resize((28,28)))\n",
        "l = len(jp_string)\n",
        "\n",
        "for x in range(l):\n",
        "    plt.subplot(1,l,x+1)\n",
        "    plt.imshow(jp_string[x])\n",
        "\n",
        "plt.show()"
      ],
      "metadata": {
        "id": "LabGsXA6cnjU",
        "colab": {
          "base_uri": "https://localhost:8080/",
          "height": 123
        },
        "outputId": "584af6c9-7f94-4bbe-b448-937e3f5a4001"
      },
      "execution_count": null,
      "outputs": [
        {
          "output_type": "display_data",
          "data": {
            "image/png": "[encoded data removed]",
            "text/plain": [
              "<Figure size 432x288 with 4 Axes>"
            ]
          },
          "metadata": {
            "needs_background": "light"
          }
        }
      ]
    },
    {
      "cell_type": "code",
      "source": [
        "for x in range(l):\n",
        "    jp_string[x] = np.array(jp_string[x])\n",
        "    jp_string[x] = 255 - jp_string[x]\n",
        "    jp_string[x] = jp_string[x] / 255\n",
        "    jp_string[x] = jp_string[x].reshape((1,28,28,1))\n",
        "\n",
        "predict_and_translate(jp_string)"
      ],
      "metadata": {
        "id": "tpX5Xn_KczUb",
        "colab": {
          "base_uri": "https://localhost:8080/"
        },
        "outputId": "1c2085bb-1c0f-4ae3-f002-2628aea0f143"
      },
      "execution_count": null,
      "outputs": [
        {
          "output_type": "stream",
          "name": "stdout",
          "text": [
            "CNN: あのよこ\n",
            "Translation: that way (direction distant from the speaker, close to the listener) \n",
            "\n",
            "AlexNet: なはよち\n",
            "Translation: seven days and nights \n",
            "\n",
            "VGGNet: のけよけ\n",
            "Translation: seven days and nights \n",
            "\n"
          ]
        }
      ]
    },
    {
      "cell_type": "markdown",
      "source": [
        "### Test Case 3: わかります"
      ],
      "metadata": {
        "id": "VyxAX6ajdKeK"
      }
    },
    {
      "cell_type": "code",
      "source": [
        "jp_string = []\n",
        "jp_string.append(Image.open(\"3_1_wa.png\").convert(\"L\").resize((28,28)))\n",
        "jp_string.append(Image.open(\"3_2_ka.png\").convert(\"L\").resize((28,28)))\n",
        "jp_string.append(Image.open(\"3_3_ri.png\").convert(\"L\").resize((28,28)))\n",
        "jp_string.append(Image.open(\"3_4_ma.png\").convert(\"L\").resize((28,28)))\n",
        "jp_string.append(Image.open(\"3_5_su.png\").convert(\"L\").resize((28,28)))\n",
        "l = len(jp_string)\n",
        "\n",
        "for x in range(l):\n",
        "    plt.subplot(1,l,x+1)\n",
        "    plt.imshow(jp_string[x])\n",
        "\n",
        "plt.show()"
      ],
      "metadata": {
        "id": "-dOcbGWMdVUJ",
        "colab": {
          "base_uri": "https://localhost:8080/",
          "height": 108
        },
        "outputId": "0291baf1-fe77-451a-afcc-bec068948423"
      },
      "execution_count": null,
      "outputs": [
        {
          "output_type": "display_data",
          "data": {
            "image/png": "[encoded data removed]",
            "text/plain": [
              "<Figure size 432x288 with 5 Axes>"
            ]
          },
          "metadata": {
            "needs_background": "light"
          }
        }
      ]
    },
    {
      "cell_type": "code",
      "source": [
        "for x in range(l):\n",
        "    jp_string[x] = np.array(jp_string[x])\n",
        "    jp_string[x] = 255 - jp_string[x]\n",
        "    jp_string[x] = jp_string[x] / 255\n",
        "    jp_string[x] = jp_string[x].reshape((1,28,28,1))\n",
        "\n",
        "predict_and_translate(jp_string)"
      ],
      "metadata": {
        "id": "4XYt7Mc6dZLS",
        "colab": {
          "base_uri": "https://localhost:8080/"
        },
        "outputId": "b8f3e432-d12e-4dac-a869-94bf821ba798"
      },
      "execution_count": null,
      "outputs": [
        {
          "output_type": "stream",
          "name": "stdout",
          "text": [
            "CNN: あせります\n",
            "Translation: I'm in a hurry. \n",
            "\n",
            "AlexNet: わもります\n",
            "Translation: babysitter \n",
            "\n",
            "VGGNet: あつります\n",
            "Translation: babysitter \n",
            "\n"
          ]
        }
      ]
    },
    {
      "cell_type": "markdown",
      "source": [
        "### Test Case 4: おかあさん"
      ],
      "metadata": {
        "id": "O4kG9yKhdKzQ"
      }
    },
    {
      "cell_type": "code",
      "source": [
        "jp_string = []\n",
        "jp_string.append(Image.open(\"4_1_o.png\").convert(\"L\").resize((28,28)))\n",
        "jp_string.append(Image.open(\"4_2_ka.png\").convert(\"L\").resize((28,28)))\n",
        "jp_string.append(Image.open(\"4_3_a.png\").convert(\"L\").resize((28,28)))\n",
        "jp_string.append(Image.open(\"4_4_sa.png\").convert(\"L\").resize((28,28)))\n",
        "jp_string.append(Image.open(\"4_5_n.png\").convert(\"L\").resize((28,28)))\n",
        "l = len(jp_string)\n",
        "\n",
        "for x in range(l):\n",
        "    plt.subplot(1,l,x+1)\n",
        "    plt.imshow(jp_string[x])\n",
        "\n",
        "plt.show()"
      ],
      "metadata": {
        "id": "_mBik0BFdhww",
        "colab": {
          "base_uri": "https://localhost:8080/",
          "height": 108
        },
        "outputId": "eea4c53c-3e45-49cd-9af0-8d11f909eabf"
      },
      "execution_count": null,
      "outputs": [
        {
          "output_type": "display_data",
          "data": {
            "image/png": "[encoded data removed]",
            "text/plain": [
              "<Figure size 432x288 with 5 Axes>"
            ]
          },
          "metadata": {
            "needs_background": "light"
          }
        }
      ]
    },
    {
      "cell_type": "code",
      "source": [
        "for x in range(l):\n",
        "    jp_string[x] = np.array(jp_string[x])\n",
        "    jp_string[x] = 255 - jp_string[x]\n",
        "    jp_string[x] = jp_string[x] / 255\n",
        "    jp_string[x] = jp_string[x].reshape((1,28,28,1))\n",
        "\n",
        "predict_and_translate(jp_string)"
      ],
      "metadata": {
        "id": "z5ZU0cLudki3",
        "colab": {
          "base_uri": "https://localhost:8080/"
        },
        "outputId": "e3eb44c9-999c-4b6a-e09c-9cf32b7f8554"
      },
      "execution_count": null,
      "outputs": [
        {
          "output_type": "stream",
          "name": "stdout",
          "text": [
            "CNN: おかしさん\n",
            "Translation: sweetsop (fruit) \n",
            "\n",
            "AlexNet: おほもとん\n",
            "Translation: your husband \n",
            "\n",
            "VGGNet: おかあさん\n",
            "Translation: your husband \n",
            "\n"
          ]
        }
      ]
    },
    {
      "cell_type": "markdown",
      "source": [
        "### Test Case 5: よこはまにいきたい"
      ],
      "metadata": {
        "id": "Ys1Evd2odtjb"
      }
    },
    {
      "cell_type": "code",
      "source": [
        "jp_string = []\n",
        "jp_string.append(Image.open(\"5_1_yo.png\").convert(\"L\").resize((28,28)))\n",
        "jp_string.append(Image.open(\"5_2_ko.png\").convert(\"L\").resize((28,28)))\n",
        "jp_string.append(Image.open(\"5_3_ha.png\").convert(\"L\").resize((28,28)))\n",
        "jp_string.append(Image.open(\"5_4_ma.png\").convert(\"L\").resize((28,28)))\n",
        "jp_string.append(Image.open(\"5_5_ni.png\").convert(\"L\").resize((28,28)))\n",
        "jp_string.append(Image.open(\"5_6_i.png\").convert(\"L\").resize((28,28)))\n",
        "jp_string.append(Image.open(\"5_7_ki.png\").convert(\"L\").resize((28,28)))\n",
        "jp_string.append(Image.open(\"5_8_ta.png\").convert(\"L\").resize((28,28)))\n",
        "jp_string.append(Image.open(\"5_9_i.png\").convert(\"L\").resize((28,28)))\n",
        "l = len(jp_string)\n",
        "\n",
        "for x in range(l):\n",
        "    plt.subplot(1,l,x+1)\n",
        "    plt.imshow(jp_string[x])\n",
        "\n",
        "plt.show()"
      ],
      "metadata": {
        "id": "nT9qDGYZdsIz",
        "colab": {
          "base_uri": "https://localhost:8080/",
          "height": 83
        },
        "outputId": "37c5eac6-1ffc-4909-9b58-d98238baaa28"
      },
      "execution_count": null,
      "outputs": [
        {
          "output_type": "display_data",
          "data": {
            "image/png": "[encoded data removed]",
            "text/plain": [
              "<Figure size 432x288 with 9 Axes>"
            ]
          },
          "metadata": {
            "needs_background": "light"
          }
        }
      ]
    },
    {
      "cell_type": "code",
      "source": [
        "for x in range(l):\n",
        "    jp_string[x] = np.array(jp_string[x])\n",
        "    jp_string[x] = 255 - jp_string[x]\n",
        "    jp_string[x] = jp_string[x] / 255\n",
        "    jp_string[x] = jp_string[x].reshape((1,28,28,1))\n",
        "\n",
        "predict_and_translate(jp_string)"
      ],
      "metadata": {
        "id": "FQKSsIQXdy1_",
        "colab": {
          "base_uri": "https://localhost:8080/"
        },
        "outputId": "89e8a173-5df4-437d-9dd9-40fc52be07da"
      },
      "execution_count": null,
      "outputs": [
        {
          "output_type": "stream",
          "name": "stdout",
          "text": [
            "CNN: よわはよにむきたひ\n",
            "Translation: Don't waste your breath! \n",
            "\n",
            "AlexNet: よわつににひきめい\n",
            "Translation: Two words, two words... \n",
            "\n",
            "VGGNet: たもままけひきたい\n",
            "Translation: Two words, two words... \n",
            "\n"
          ]
        }
      ]
    },
    {
      "cell_type": "markdown",
      "source": [
        "### Test Case 6: きょうてんきはよい"
      ],
      "metadata": {
        "id": "loLp405udLKg"
      }
    },
    {
      "cell_type": "code",
      "source": [
        "jp_string = []\n",
        "jp_string.append(Image.open(\"6_1_ki.png\").convert(\"L\").resize((28,28)))\n",
        "jp_string.append(Image.open(\"6_2_xyo.png\").convert(\"L\").resize((28,28)))\n",
        "jp_string.append(Image.open(\"6_3_u.png\").convert(\"L\").resize((28,28)))\n",
        "jp_string.append(Image.open(\"6_4_te.png\").convert(\"L\").resize((28,28)))\n",
        "jp_string.append(Image.open(\"6_5_ki.png\").convert(\"L\").resize((28,28)))\n",
        "jp_string.append(Image.open(\"6_6_ha.png\").convert(\"L\").resize((28,28)))\n",
        "jp_string.append(Image.open(\"6_7_yo.png\").convert(\"L\").resize((28,28)))\n",
        "jp_string.append(Image.open(\"6_8_i.png\").convert(\"L\").resize((28,28)))\n",
        "l = len(jp_string)\n",
        "\n",
        "for x in range(l):\n",
        "    plt.subplot(1,l,x+1)\n",
        "    plt.imshow(jp_string[x])\n",
        "\n",
        "plt.show()"
      ],
      "metadata": {
        "id": "Baz03oX6iMJb",
        "colab": {
          "base_uri": "https://localhost:8080/",
          "height": 86
        },
        "outputId": "89e8d68d-1713-4a4f-ed4d-ee894c1089fb"
      },
      "execution_count": null,
      "outputs": [
        {
          "output_type": "display_data",
          "data": {
            "image/png": "[encoded data removed]",
            "text/plain": [
              "<Figure size 432x288 with 8 Axes>"
            ]
          },
          "metadata": {
            "needs_background": "light"
          }
        }
      ]
    },
    {
      "cell_type": "code",
      "source": [
        "for x in range(l):\n",
        "    jp_string[x] = np.array(jp_string[x])\n",
        "    jp_string[x] = 255 - jp_string[x]\n",
        "    jp_string[x] = jp_string[x] / 255\n",
        "    jp_string[x] = jp_string[x].reshape((1,28,28,1))\n",
        "\n",
        "predict_and_translate(jp_string)"
      ],
      "metadata": {
        "id": "COWhBIpiiNlS",
        "colab": {
          "base_uri": "https://localhost:8080/"
        },
        "outputId": "032cb5ba-cbb4-4fdc-8dd5-9d919c7838bd"
      },
      "execution_count": null,
      "outputs": [
        {
          "output_type": "stream",
          "name": "stdout",
          "text": [
            "CNN: せたうてきのよひ\n",
            "Translation: the cost of living \n",
            "\n",
            "AlexNet: れたかてせすよひ\n",
            "Translation: expenses incurred in the past \n",
            "\n",
            "VGGNet: せけけてきまよい\n",
            "Translation: expenses incurred in the past \n",
            "\n"
          ]
        }
      ]
    },
    {
      "cell_type": "markdown",
      "source": [
        "### Test Case 7: えき"
      ],
      "metadata": {
        "id": "h_b0NUI6gnJG"
      }
    },
    {
      "cell_type": "code",
      "source": [
        "jp_string = []\n",
        "jp_string.append(Image.open(\"7_1_e.png\").convert(\"L\").resize((28,28)))\n",
        "jp_string.append(Image.open(\"7_2_ki.png\").convert(\"L\").resize((28,28)))\n",
        "l = len(jp_string)\n",
        "\n",
        "for x in range(l):\n",
        "    plt.subplot(1,l,x+1)\n",
        "    plt.imshow(jp_string[x])\n",
        "\n",
        "plt.show()"
      ],
      "metadata": {
        "id": "_ibV-zyVibbc",
        "colab": {
          "base_uri": "https://localhost:8080/"
        },
        "outputId": "3f4b2dff-59f4-4f66-cb07-ec178caffce3"
      },
      "execution_count": null,
      "outputs": [
        {
          "output_type": "display_data",
          "data": {
            "image/png": "[encoded data removed]",
            "text/plain": [
              "<Figure size 432x288 with 2 Axes>"
            ]
          },
          "metadata": {
            "needs_background": "light"
          }
        }
      ]
    },
    {
      "cell_type": "code",
      "source": [
        "for x in range(l):\n",
        "    jp_string[x] = np.array(jp_string[x])\n",
        "    jp_string[x] = 255 - jp_string[x]\n",
        "    jp_string[x] = jp_string[x] / 255\n",
        "    jp_string[x] = jp_string[x].reshape((1,28,28,1))\n",
        "\n",
        "predict_and_translate(jp_string)"
      ],
      "metadata": {
        "id": "OZw_F7Giihl_",
        "colab": {
          "base_uri": "https://localhost:8080/"
        },
        "outputId": "f14926f8-3e8b-4481-ac94-109f04203d1c"
      },
      "execution_count": null,
      "outputs": [
        {
          "output_type": "stream",
          "name": "stdout",
          "text": [
            "CNN: えき\n",
            "Translation: fluid \n",
            "\n",
            "AlexNet: えき\n",
            "Translation: fluid \n",
            "\n",
            "VGGNet: えき\n",
            "Translation: fluid \n",
            "\n"
          ]
        }
      ]
    },
    {
      "cell_type": "markdown",
      "source": [
        "### Test Case 8: よる"
      ],
      "metadata": {
        "id": "wdwG8kEFgvzB"
      }
    },
    {
      "cell_type": "code",
      "source": [
        "jp_string = []\n",
        "jp_string.append(Image.open(\"8_1_yo.png\").convert(\"L\").resize((28,28)))\n",
        "jp_string.append(Image.open(\"8_2_ru.png\").convert(\"L\").resize((28,28)))\n",
        "l = len(jp_string)\n",
        "\n",
        "for x in range(l):\n",
        "    plt.subplot(1,l,x+1)\n",
        "    plt.imshow(jp_string[x])\n",
        "\n",
        "plt.show()"
      ],
      "metadata": {
        "id": "JAFFXprvijnp",
        "colab": {
          "base_uri": "https://localhost:8080/",
          "height": 201
        },
        "outputId": "919162ba-716c-496c-fd14-c1dfbfc896da"
      },
      "execution_count": null,
      "outputs": [
        {
          "output_type": "display_data",
          "data": {
            "image/png": "[encoded data removed]",
            "text/plain": [
              "<Figure size 432x288 with 2 Axes>"
            ]
          },
          "metadata": {
            "needs_background": "light"
          }
        }
      ]
    },
    {
      "cell_type": "code",
      "source": [
        "for x in range(l):\n",
        "    jp_string[x] = np.array(jp_string[x])\n",
        "    jp_string[x] = 255 - jp_string[x]\n",
        "    jp_string[x] = jp_string[x] / 255\n",
        "    jp_string[x] = jp_string[x].reshape((1,28,28,1))\n",
        "\n",
        "predict_and_translate(jp_string)"
      ],
      "metadata": {
        "id": "HIEcN8-mipwV",
        "colab": {
          "base_uri": "https://localhost:8080/"
        },
        "outputId": "dee63b0e-782a-4e56-d223-99e652ff8273"
      },
      "execution_count": null,
      "outputs": [
        {
          "output_type": "stream",
          "name": "stdout",
          "text": [
            "CNN: よる\n",
            "Translation: grow high (number, etc.) \n",
            "\n",
            "AlexNet: よる\n",
            "Translation: grow high (number, etc.) \n",
            "\n",
            "VGGNet: よる\n",
            "Translation: grow high (number, etc.) \n",
            "\n"
          ]
        }
      ]
    },
    {
      "cell_type": "markdown",
      "source": [
        "### Test Case 9: そと"
      ],
      "metadata": {
        "id": "Zvmy9kIqgwio"
      }
    },
    {
      "cell_type": "code",
      "source": [
        "jp_string = []\n",
        "jp_string.append(Image.open(\"9_1_so.png\").convert(\"L\").resize((28,28)))\n",
        "jp_string.append(Image.open(\"9_2_to.png\").convert(\"L\").resize((28,28)))\n",
        "l = len(jp_string)\n",
        "\n",
        "for x in range(l):\n",
        "    plt.subplot(1,l,x+1)\n",
        "    plt.imshow(jp_string[x])\n",
        "\n",
        "plt.show()"
      ],
      "metadata": {
        "id": "2J0vwaM7iyLn",
        "colab": {
          "base_uri": "https://localhost:8080/",
          "height": 201
        },
        "outputId": "6a136e26-3568-469f-8556-9bd67de2bdbf"
      },
      "execution_count": null,
      "outputs": [
        {
          "output_type": "display_data",
          "data": {
            "image/png": "[encoded data removed]",
            "text/plain": [
              "<Figure size 432x288 with 2 Axes>"
            ]
          },
          "metadata": {
            "needs_background": "light"
          }
        }
      ]
    },
    {
      "cell_type": "code",
      "source": [
        "for x in range(l):\n",
        "    jp_string[x] = np.array(jp_string[x])\n",
        "    jp_string[x] = 255 - jp_string[x]\n",
        "    jp_string[x] = jp_string[x] / 255\n",
        "    jp_string[x] = jp_string[x].reshape((1,28,28,1))\n",
        "\n",
        "predict_and_translate(jp_string)"
      ],
      "metadata": {
        "id": "vffXtQ64i0DJ",
        "colab": {
          "base_uri": "https://localhost:8080/"
        },
        "outputId": "4715bf38-d3e2-4f5b-acfd-4b7959fdd379"
      },
      "execution_count": null,
      "outputs": [
        {
          "output_type": "stream",
          "name": "stdout",
          "text": [
            "CNN: もと\n",
            "Translation: material \n",
            "\n",
            "AlexNet: もと\n",
            "Translation: material \n",
            "\n",
            "VGGNet: そと\n",
            "Translation: material \n",
            "\n"
          ]
        }
      ]
    }
  ]
}
